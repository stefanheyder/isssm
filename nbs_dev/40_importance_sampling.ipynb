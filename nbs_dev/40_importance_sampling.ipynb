{
 "cells": [
  {
   "cell_type": "code",
   "execution_count": null,
   "metadata": {},
   "outputs": [],
   "source": [
    "#| default_exp importance_sampling"
   ]
  },
  {
   "attachments": {},
   "cell_type": "markdown",
   "metadata": {},
   "source": [
    "# Importance Sampling for Log Concave State Space Models\n",
    "\n",
    "After having observed $Y$ one is usually interested in properties of the conditional distribution of states $X$ given $Y$. Typically this means terms of the form\n",
    "\n",
    "$$\n",
    "\\mathbf E (f(X) | Y) = \\mathbf E (f(X_0, \\dots, X_n) | Y_0, \\dots, Y_n) = \\int f(x_0, \\dots, x_n) p(x_0, \\dots, x_n | y_0, \\dots, y_n) \\mathrm d x_0 \\dots \\mathrm d x_n.\n",
    "$$\n",
    "\n",
    "As the density $p(x|y)$ is known only up to a constant, we resort to importance sampling with a GLSSM, represented by its $g$, which can be obtained e.g. by [mode estimation](40_mode_estimation.ipynb) or [(modified) efficient importance sampling](50_modified_efficient_importance_sampling.ipynb). We'll assume throughout that $p(x) = g(x)$, i.e. that the prior for the states did not change in the approximation."
   ]
  },
  {
   "attachments": {},
   "cell_type": "markdown",
   "metadata": {},
   "source": [
    "In this setting we can transform the expectation w.r.t the condtiional density $p(x|y)$ to one w.r.t the density $g(x|z)$ where $z$ are some synthetic observations. \n",
    "\n",
    "$$\n",
    "\\begin{align*}\n",
    "\\int f(x) p(x|y) \\mathrm d x &= \\int f(x) \\frac{p(x|y)}{g(x|z)} g(x|z) \\mathrm d x\\\\\n",
    "&= \\int f(x) \\frac{p(y|x)}{g(z|x)} \\frac{g(z)}{p(y)} g(x|z) \\mathrm d x.\n",
    "\\end{align*}\n",
    "$$\n",
    "\n",
    "Let $w(x) = \\frac{p(y|x)}{g(z|x)} = \\frac{p(y|s)}{g(z|s)}$ be the (unnormalized) importance sampling weights which only depend on $s_t = B_t x_t$, $t = 0, \\dots, n$."
   ]
  },
  {
   "cell_type": "code",
   "execution_count": 1,
   "metadata": {},
   "outputs": [],
   "source": [
    "#| export\n",
    "import tensorflow_probability.substrates.jax.distributions as tfd\n",
    "import jax.numpy as jnp\n",
    "\n",
    "from isssm.lcssm import v_time\n",
    "MVN = tfd.MultivariateNormalFullCovariance\n",
    "def log_weights(s,y, xi_fun, dist, z, Omega):\n",
    "    np1, m = s\n",
    "    n = np1 - 1\n",
    "    params = v_time(xi_fun)(jnp.arange(n + 1), s)\n",
    "\n",
    "    p_ys = dist(params).log_prob(y).sum()\n",
    "    g_zs = MVN(s, Omega).log_prob(z).sum()\n",
    "    \n",
    "    return p_ys - g_zs"
   ]
  },
  {
   "cell_type": "code",
   "execution_count": 1,
   "metadata": {},
   "outputs": [
    {
     "name": "stderr",
     "output_type": "stream",
     "text": [
      "No GPU/TPU found, falling back to CPU. (Set TF_CPP_MIN_LOG_LEVEL=0 and rerun for more info.)\n"
     ]
    },
    {
     "ename": "NameError",
     "evalue": "name 'kalman' is not defined",
     "output_type": "error",
     "traceback": [
      "\u001b[0;31m---------------------------------------------------------------------------\u001b[0m",
      "\u001b[0;31mNameError\u001b[0m                                 Traceback (most recent call last)",
      "Cell \u001b[0;32mIn[1], line 24\u001b[0m\n\u001b[1;32m     22\u001b[0m (X, ), (Y,) \u001b[39m=\u001b[39m simulate_lcssm(x0, A, Sigma, B, xi_fun, dist, N, subkey)\n\u001b[1;32m     23\u001b[0m s_init \u001b[39m=\u001b[39m jnp\u001b[39m.\u001b[39mlog(Y \u001b[39m+\u001b[39m \u001b[39m1.\u001b[39m)\n\u001b[0;32m---> 24\u001b[0m x_smooth, z, Omega \u001b[39m=\u001b[39m mode_estimation(Y, x0, A, Sigma, B, xi_fun, dist, s_init, \u001b[39m10\u001b[39;49m)\n\u001b[1;32m     26\u001b[0m samples \u001b[39m=\u001b[39m FFBS(z, x0, Sigma, Omega, A, B, \u001b[39m1000\u001b[39m, jrn\u001b[39m.\u001b[39mPRNGKey(\u001b[39m423423\u001b[39m))\n\u001b[1;32m     28\u001b[0m vB \u001b[39m=\u001b[39m partial(vmap(jnp\u001b[39m.\u001b[39mmatul), B)\n",
      "File \u001b[0;32m~/workspace/10 Professional Primary/11 Research/11.23 ISSSM_Github/isssm/mode_estimation.py:60\u001b[0m, in \u001b[0;36mmode_estimation\u001b[0;34m(y, x0, A, Sigma, B, xi_fun, dist, s_init, n_iter)\u001b[0m\n\u001b[1;32m     56\u001b[0m     signal \u001b[39m=\u001b[39m vB(x_smooth)\n\u001b[1;32m     58\u001b[0m     \u001b[39mreturn\u001b[39;00m (signal,), (x_smooth, z, Gamma)\n\u001b[0;32m---> 60\u001b[0m _, (x_smooth, z, Gamma) \u001b[39m=\u001b[39m scan(iteration, (s_init,), (jnp\u001b[39m.\u001b[39;49marange(n_iter),))\n\u001b[1;32m     62\u001b[0m \u001b[39mreturn\u001b[39;00m (x_smooth[\u001b[39m-\u001b[39m\u001b[39m1\u001b[39m], z[\u001b[39m-\u001b[39m\u001b[39m1\u001b[39m], Gamma[\u001b[39m-\u001b[39m\u001b[39m1\u001b[39m])\n",
      "    \u001b[0;31m[... skipping hidden 9 frame]\u001b[0m\n",
      "File \u001b[0;32m~/workspace/10 Professional Primary/11 Research/11.23 ISSSM_Github/isssm/mode_estimation.py:50\u001b[0m, in \u001b[0;36mmode_estimation.<locals>.iteration\u001b[0;34m(carry, input)\u001b[0m\n\u001b[1;32m     47\u001b[0m Omega \u001b[39m=\u001b[39m vdiag(\u001b[39m1.\u001b[39m \u001b[39m/\u001b[39m vdiag(Gamma))\n\u001b[1;32m     49\u001b[0m z \u001b[39m=\u001b[39m signal \u001b[39m+\u001b[39m vmm(Omega, grad)\n\u001b[0;32m---> 50\u001b[0m x_filt, Xi_filt, x_pred, Xi_pred \u001b[39m=\u001b[39m kalman(\n\u001b[1;32m     51\u001b[0m     z, x0, Sigma, Omega, A, B\n\u001b[1;32m     52\u001b[0m )\n\u001b[1;32m     54\u001b[0m x_smooth, Xi_smooth \u001b[39m=\u001b[39m smoother(x_filt, Xi_filt, x_pred, Xi_pred, A)\n\u001b[1;32m     56\u001b[0m signal \u001b[39m=\u001b[39m vB(x_smooth)\n",
      "\u001b[0;31mNameError\u001b[0m: name 'kalman' is not defined"
     ]
    }
   ],
   "source": [
    "from isssm.lcssm import nb_lcssm, simulate_lcssm\n",
    "from isssm.glssm import FFBS\n",
    "from isssm.kalman import kalman\n",
    "import jax.random as jrn\n",
    "from isssm.mode_estimation import mode_estimation\n",
    "import jax.numpy as jnp\n",
    "from jax import vmap\n",
    "from functools import partial\n",
    "\n",
    "m, p, n = 3, 2, 100\n",
    "A = jnp.broadcast_to(jnp.eye(m), (n, m, m))\n",
    "B = jnp.broadcast_to(jnp.array([[1, 0, 1], [0, 1, 1]]), (n + 1, p, m))\n",
    "\n",
    "s2= 0.01\n",
    "Sigma = jnp.broadcast_to(s2 * jnp.eye(m), (n + 1, m, m))\n",
    "x0 = jnp.ones(m)\n",
    "\n",
    "key = jrn.PRNGKey(512)\n",
    "key, subkey = jrn.split(key)\n",
    "*_, xi_fun, dist = nb_lcssm(x0, A, Sigma, B, 20.)\n",
    "N = 1\n",
    "(X, ), (Y,) = simulate_lcssm(x0, A, Sigma, B, xi_fun, dist, N, subkey)\n",
    "s_init = jnp.log(Y + 1.)\n",
    "x_smooth, z, Omega = mode_estimation(Y, x0, A, Sigma, B, xi_fun, dist, s_init, 10)\n",
    "\n",
    "samples = FFBS(z, x0, Sigma, Omega, A, B, 1000, jrn.PRNGKey(423423))\n",
    "\n",
    "vB = partial(vmap(jnp.matul), B)\n",
    "\n",
    "s = vmap(vB)(samples)\n",
    "\n",
    "lw = log_weights(s, y, xi_fun, dist, z, Omega)"
   ]
  },
  {
   "cell_type": "code",
   "execution_count": null,
   "metadata": {},
   "outputs": [],
   "source": [
    "#| hide\n",
    "import nbdev; nbdev.nbdev_export()"
   ]
  }
 ],
 "metadata": {
  "kernelspec": {
   "display_name": "Python 3",
   "language": "python",
   "name": "python3"
  },
  "language_info": {
   "codemirror_mode": {
    "name": "ipython",
    "version": 3
   },
   "file_extension": ".py",
   "mimetype": "text/x-python",
   "name": "python",
   "nbconvert_exporter": "python",
   "pygments_lexer": "ipython3",
   "version": "3.11.3"
  },
  "orig_nbformat": 4
 },
 "nbformat": 4,
 "nbformat_minor": 2
}
