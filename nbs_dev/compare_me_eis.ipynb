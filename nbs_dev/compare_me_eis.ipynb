{
 "cells": [
  {
   "attachments": {},
   "cell_type": "markdown",
   "metadata": {},
   "source": [
    "# Comparing different importance sampling approaches for state space models"
   ]
  },
  {
   "attachments": {},
   "cell_type": "markdown",
   "metadata": {},
   "source": [
    "According to [@Agapiou2017Importance], at least for gaussian inverse problems the \"difficulty\" of an inverse problems\n",
    "$$\n",
    "y = Bx + \\varepsilon\n",
    "$$\n",
    "with $x \\sim \\mathcal{N} (\\mu, \\Sigma)$ and $\\varepsilon \\sim \\mathcal N(0, \\Omega)$ may be judged by the whitened analouge\n",
    "\n",
    "$$\n",
    "y_{0} = Sx_{0} + \\varepsilon_{0}\n",
    "$$\n",
    "\n",
    "where $x_0 \\sim \\mathcal{N}(0, I_{m}), \\varepsilon_0 \\sim \\mathcal{N}(0, I_{p})$ and $S = \\Omega ^{-\\frac{1}{2}} B \\Sigma^{\\frac{1}{2}} \\in \\mathbf{R}^{p \\times m}$ and we substracted the known mean. \n",
    "\n",
    "The difficulty is then ruled by the eigenvalues of $A = S^tS \\in \\mathbf{R}^{m \\times m}$ or, more precisely by\n",
    "$$\n",
    "\\begin{align*}\n",
    "    \\tau &= \\operatorname{tr} \\left( A \\right) \\\\\n",
    "    \\operatorname{efd} &= \\operatorname{tr} \\left( (I + A)^{-1} A \\right) = \\operatorname{tr} \\left(  (A^{-1} + I)^{-1} \\right)\n",
    "\\end{align*}\n",
    "$$\n",
    "Both measure how \"singular\" the posterior is w.r.t. the prior (i.e., how far are the covariance/precision matrices of prior and posterior from one another), with big values corresponding to \"harder\" problems."
   ]
  },
  {
   "attachments": {},
   "cell_type": "markdown",
   "metadata": {},
   "source": [
    "## Construction of $S$\n",
    "\n",
    "In the finite dimensional case $A = S^tS$ is positive semi-definite and can be represented as $A = UDU^{t}$. \n",
    "Then\n",
    "$$\n",
    "\\begin{align*}\n",
    "    \\tau &= \\sum_{i = 1}^{m} \\lambda_{i}\\\\\n",
    "    \\operatorname{efd} &= \\sum_{i=1}^{m} \\frac{\\lambda_{i}}{1 + \\lambda_{i}} \\leq m\n",
    "\\end{align*}\n",
    "$$\n",
    "\n",
    "We consider the case where $m \\gg p$ \n",
    "To control these two quantities we let $$S = I_{p \\times m}D^{- \\frac{1}{2}} U^{t}$$ for $D = \\operatorname{diag} (d_1, \\dots, d_m)$ where the entries $d_i^{2} \\in \\mathbf{R}$ follow some joint distribution (or are picked deterministically) and $U \\in \\operatorname{O} (m)$ uniformly.\n",
    "\n",
    "The corresponding eigenvalues are then $\\lambda_i = d_{i}^{2}\\,\\mathbf 1_{i \\leq p}$."
   ]
  },
  {
   "cell_type": "code",
   "execution_count": 1,
   "metadata": {},
   "outputs": [
    {
     "name": "stderr",
     "output_type": "stream",
     "text": [
      "No GPU/TPU found, falling back to CPU. (Set TF_CPP_MIN_LOG_LEVEL=0 and rerun for more info.)\n"
     ]
    },
    {
     "data": {
      "text/plain": [
       "(Array(7.6771517, dtype=float32),\n",
       " Array(7.677152, dtype=float32),\n",
       " Array(3.9446895, dtype=float32))"
      ]
     },
     "execution_count": 1,
     "metadata": {},
     "output_type": "execute_result"
    }
   ],
   "source": [
    "import jax.numpy as jnp\n",
    "import tensorflow_probability.substrates.jax.distributions as tfd\n",
    "import jax.random as jrn\n",
    "import jax.scipy as jsp\n",
    "\n",
    "def tau(S):\n",
    "    A = S.T @ S\n",
    "    eigvals = jnp.linalg.eigvalsh(A)\n",
    "    return eigvals.sum()\n",
    "\n",
    "def efd(S):\n",
    "    A = S.T @ S\n",
    "    eigvals = jnp.linalg.eigvalsh(A)\n",
    "    return (eigvals/ (1. + eigvals)).sum()\n",
    "\n",
    "def S(d, U, p):\n",
    "    m, = d.shape\n",
    "    return jnp.eye(p, m) @ jnp.diag(d) @ U.T\n",
    "\n",
    "key = jrn.PRNGKey(179)\n",
    "\n",
    "key, subkey = jrn.split(key)\n",
    "m, p = (100, 10)\n",
    "d = jrn.normal(subkey, (m,))\n",
    "\n",
    "key, subkey = jrn.split(key)\n",
    "U,_ = jsp.linalg.qr(jrn.normal(subkey, (m, m)))\n",
    "\n",
    "S_test = S(d, U, p)\n",
    "\n",
    "jnp.abs(d**2)[:p].sum(), tau(S_test), efd(S_test)"
   ]
  },
  {
   "attachments": {},
   "cell_type": "markdown",
   "metadata": {},
   "source": [
    "We now consider some scenarios that [@Agapiou2017Importance] also considered. "
   ]
  },
  {
   "cell_type": "code",
   "execution_count": 2,
   "metadata": {},
   "outputs": [
    {
     "data": {
      "text/plain": [
       "(Array(50.05263, dtype=float32), Array(4.597537, dtype=float32))"
      ]
     },
     "execution_count": 2,
     "metadata": {},
     "output_type": "execute_result"
    }
   ],
   "source": [
    "def S_spectral_jump(C, k, m, p, key):\n",
    "    eps = 1. / (m - k)\n",
    "    d = jnp.sqrt(jnp.concatenate((jnp.full(k, C), jnp.full(m - k, eps))))\n",
    "    key, subkey = jrn.split(key)\n",
    "    U, _ = jsp.linalg.qr(jrn.normal(subkey, (m, m)))\n",
    "    return S(d, U, p)\n",
    "\n",
    "def S_spectral_cascade(beta, gamma, m, p):\n",
    "    d = jnp.sqrt(jnp.arange(1, m + 1)**(-beta) / gamma)\n",
    "    key, subkey = jrn.split(key)\n",
    "    U, _ = jsp.linalg.qr(jrn.normal(subkey, (m, m)))\n",
    "    return S(d, U, p)\n",
    "\n",
    "\n",
    "key, subkey = jrn.split(key)\n",
    "\n",
    "S_test = S_spectral_jump(10, 5, 100, 10, key)\n",
    "tau(S_test), efd(S_test)"
   ]
  },
  {
   "attachments": {},
   "cell_type": "markdown",
   "metadata": {},
   "source": [
    "## Simulation Study for NB inverse problems"
   ]
  },
  {
   "cell_type": "code",
   "execution_count": 3,
   "metadata": {},
   "outputs": [],
   "source": [
    "from isssm.lcssm import nb_lcssm, simulate_lcssm\n",
    "from isssm.mode_estimation import mode_estimation\n",
    "from isssm.modified_efficient_importance_sampling import modified_efficient_importance_sampling\n",
    "from isssm.importance_sampling import lcssm_importance_sampling, ess_pct\n",
    "\n",
    "m, p = (20, 3)\n",
    "\n",
    "def ess_pct_me_meis(m,p, params, N, key, n_iter=100):\n",
    "    x0 = jnp.zeros(m)\n",
    "    A = jnp.empty((0, m,m))\n",
    "    Sigma = jnp.eye(m).reshape((1,m,m))\n",
    "    key, subkey = jrn.split(key)\n",
    "    C, k = params\n",
    "    B = S_spectral_jump(C, k, m, p, subkey).reshape((1,p,m))\n",
    "    r = 10.\n",
    "\n",
    "    *_, xi_fun, dist = nb_lcssm(\n",
    "        x0,\n",
    "        A,\n",
    "        Sigma,\n",
    "        B,\n",
    "        r\n",
    "    )\n",
    "\n",
    "    key, subkey = jrn.split(key)\n",
    "    _, (y,) = simulate_lcssm((x0, A, Sigma, B, xi_fun, dist), 1, subkey)\n",
    "\n",
    "    _, z, Omega = mode_estimation(y, x0, A, Sigma, B, xi_fun, dist, jnp.log(y + 1.), n_iter)\n",
    "\n",
    "    key, sk_IS, sk_MEIS = jrn.split(key, 3)\n",
    "    me_samples, me_log_weights = lcssm_importance_sampling(\n",
    "        y, x0,  A, Sigma, B, xi_fun, dist, z, Omega, N , sk_IS\n",
    "    )\n",
    "\n",
    "    z_meis, Omega_meis = modified_efficient_importance_sampling(\n",
    "        y, x0,  A, Sigma, B, xi_fun, dist, z, Omega, n_iter, N , sk_MEIS\n",
    "    )\n",
    "\n",
    "    meis_samples, meis_log_weights = lcssm_importance_sampling(\n",
    "        y, x0,  A, Sigma, B, xi_fun, dist, z_meis, Omega_meis, N , sk_IS\n",
    "    )\n",
    "    \n",
    "    return ess_pct(me_log_weights), ess_pct(meis_log_weights)\n",
    "    "
   ]
  },
  {
   "cell_type": "code",
   "execution_count": 9,
   "metadata": {},
   "outputs": [],
   "source": [
    "import pandas as pd\n",
    "from jax import vmap\n",
    "key = jrn.PRNGKey(97520)\n",
    "key, subkey = jrn.split(key)\n",
    "\n",
    "simulation_parameters = pd.DataFrame({\n",
    "    \"m\": [20, 30, 40],#, 50, 60, 70, 80, 90, 100],\n",
    "    \"p\": 10\n",
    "})\n",
    "\n",
    "# apply ess_pct_me_meis to each row of parameters\n",
    "S_params = (10, 8)\n",
    "\n",
    "repetitions = 10\n",
    "\n",
    "# make sure columns are numeric\n",
    "def multiple_simulation(m, p, key):\n",
    "    keys = jrn.split(key, repetitions)\n",
    "    ess_me, ess_meis = vmap(ess_pct_me_meis, (None, None, None, None, 0))(\n",
    "        m, p, S_params, 1000, keys\n",
    "    )\n",
    "\n",
    "    return pd.DataFrame({\n",
    "        \"m\": m,\n",
    "        \"p\": p,\n",
    "        \"me\": [*ess_me],\n",
    "        \"meis\": [*ess_meis]\n",
    "    })\n",
    "\n",
    "effective_sample_sizes = pd.concat(\n",
    "    [*simulation_parameters.apply(\n",
    "    lambda row: multiple_simulation(row.m, row.p, subkey),\n",
    "    axis=1\n",
    ")])"
   ]
  },
  {
   "cell_type": "code",
   "execution_count": 8,
   "metadata": {},
   "outputs": [
    {
     "data": {
      "text/html": [
       "<div>\n",
       "<style scoped>\n",
       "    .dataframe tbody tr th:only-of-type {\n",
       "        vertical-align: middle;\n",
       "    }\n",
       "\n",
       "    .dataframe tbody tr th {\n",
       "        vertical-align: top;\n",
       "    }\n",
       "\n",
       "    .dataframe thead th {\n",
       "        text-align: right;\n",
       "    }\n",
       "</style>\n",
       "<table border=\"1\" class=\"dataframe\">\n",
       "  <thead>\n",
       "    <tr style=\"text-align: right;\">\n",
       "      <th></th>\n",
       "      <th>m</th>\n",
       "      <th>p</th>\n",
       "      <th>me</th>\n",
       "      <th>meis</th>\n",
       "    </tr>\n",
       "  </thead>\n",
       "  <tbody>\n",
       "    <tr>\n",
       "      <th>0</th>\n",
       "      <td>20</td>\n",
       "      <td>10</td>\n",
       "      <td>34.22021</td>\n",
       "      <td>66.51941</td>\n",
       "    </tr>\n",
       "    <tr>\n",
       "      <th>1</th>\n",
       "      <td>20</td>\n",
       "      <td>10</td>\n",
       "      <td>12.378574</td>\n",
       "      <td>52.70287</td>\n",
       "    </tr>\n",
       "    <tr>\n",
       "      <th>0</th>\n",
       "      <td>30</td>\n",
       "      <td>10</td>\n",
       "      <td>19.025225</td>\n",
       "      <td>53.706318</td>\n",
       "    </tr>\n",
       "    <tr>\n",
       "      <th>1</th>\n",
       "      <td>30</td>\n",
       "      <td>10</td>\n",
       "      <td>34.738533</td>\n",
       "      <td>67.97855</td>\n",
       "    </tr>\n",
       "    <tr>\n",
       "      <th>0</th>\n",
       "      <td>40</td>\n",
       "      <td>10</td>\n",
       "      <td>20.578892</td>\n",
       "      <td>61.98459</td>\n",
       "    </tr>\n",
       "    <tr>\n",
       "      <th>1</th>\n",
       "      <td>40</td>\n",
       "      <td>10</td>\n",
       "      <td>4.2862835</td>\n",
       "      <td>18.327566</td>\n",
       "    </tr>\n",
       "  </tbody>\n",
       "</table>\n",
       "</div>"
      ],
      "text/plain": [
       "    m   p         me       meis\n",
       "0  20  10   34.22021   66.51941\n",
       "1  20  10  12.378574   52.70287\n",
       "0  30  10  19.025225  53.706318\n",
       "1  30  10  34.738533   67.97855\n",
       "0  40  10  20.578892   61.98459\n",
       "1  40  10  4.2862835  18.327566"
      ]
     },
     "execution_count": 8,
     "metadata": {},
     "output_type": "execute_result"
    }
   ],
   "source": [
    "pd.concat([*effective_sample_sizes])"
   ]
  },
  {
   "cell_type": "code",
   "execution_count": 15,
   "metadata": {},
   "outputs": [
    {
     "data": {
      "image/png": "[encoded data removed]",
      "text/plain": [
       "<Figure size 640x480 with 1 Axes>"
      ]
     },
     "metadata": {},
     "output_type": "display_data"
    }
   ],
   "source": [
    "import matplotlib.pyplot as plt\n",
    "ax = effective_sample_sizes.plot(x=\"m\", y=\"me\", kind=\"scatter\", label=\"ME\")\n",
    "effective_sample_sizes.plot(x=\"m\", y=\"meis\", kind=\"scatter\", ax=ax,color=\"orange\", label=\"MEIS\")\n",
    "ax.set_ylim(0,101)\n",
    "plt.legend()\n",
    "plt.show()"
   ]
  }
 ],
 "metadata": {
  "kernelspec": {
   "display_name": "Python 3",
   "language": "python",
   "name": "python3"
  },
  "language_info": {
   "codemirror_mode": {
    "name": "ipython",
    "version": 3
   },
   "file_extension": ".py",
   "mimetype": "text/x-python",
   "name": "python",
   "nbconvert_exporter": "python",
   "pygments_lexer": "ipython3",
   "version": "3.11.5"
  },
  "orig_nbformat": 4
 },
 "nbformat": 4,
 "nbformat_minor": 2
}
