{
 "cells": [
  {
   "cell_type": "code",
   "execution_count": 1,
   "metadata": {},
   "outputs": [],
   "source": [
    "#| default_exp importance_sampling\n",
    "import jax\n",
    "jax.config.update(\"jax_enable_x64\", True)"
   ]
  },
  {
   "attachments": {},
   "cell_type": "markdown",
   "metadata": {},
   "source": [
    "# Importance Sampling for Log Concave State Space Models"
   ]
  },
  {
   "attachments": {},
   "cell_type": "markdown",
   "metadata": {},
   "source": [
    "\n",
    "After having observed $Y$ one is usually interested in properties of the conditional distribution of states $X$ given $Y$. Typically this means terms of the form\n",
    "\n",
    "$$\n",
    "\\begin{align*}\n",
    "\\mathbf E (f(X) | Y) &= \\mathbf E (f(X_0, \\dots, X_n) | Y_0, \\dots, Y_n) \\\\\n",
    "    &= \\int f(x_0, \\dots, x_n) p(x_0, \\dots, x_n | y_0, \\dots, y_n) \\mathrm d x_0 \\dots \\mathrm d x_n.\n",
    "\\end{align*}\n",
    "$$\n",
    "\n",
    "As the density $p(x|y)$ is known only up to a constant, we resort to importance sampling with a GLSSM, represented by its gaussian densities $g$. The methods of [mode estimation](30_mode_estimation.ipynb) and [(modified) efficient importance sampling](50_modified_efficient_importance_sampling.ipynb) perform this task for loc concave state space models where the states are jointly gaussian. \n",
    "\n",
    "Both methods construct surrogate [linear gaussian state space models](00_glssm.ipynb) that are parameterized by synthetic observations $z_t$ and their covariance matrices $\\Omega_t$. Usually $\\Omega_t$ is a diagonal matrix which is justified if the components of the observation vector at time $t$, $Y^i_t$, $i = 1, \\dots, p$ are conditionally independent given states $X_t$.\n",
    "\n",
    "These models are then based on the following SSM:\n",
    "$$\n",
    "\\begin{align*}\n",
    "    X_0 &\\sim \\mathcal N (x_0, \\Sigma_0) &&\\\\\n",
    "    X_{t + 1} &= A_t X_{t} + \\varepsilon_{t + 1} &&t = 0, \\dots, n - 1\\\\\n",
    "    \\varepsilon_t &\\sim \\mathcal N (0, \\Sigma_t) && t = 1, \\dots, n \\\\\n",
    "    S_t &= B_t X_t &&\\\\\n",
    "    Z_t &= S_t + \\eta_t && t =0, \\dots, n & \\\\\n",
    "    \\eta_t &\\sim \\mathcal N(0, \\Omega_t) && t=0, \\dots, n.\n",
    "\\end{align*}\n",
    "$$"
   ]
  },
  {
   "attachments": {},
   "cell_type": "markdown",
   "metadata": {},
   "source": [
    "In this setting we can transform the expectation w.r.t the condtiional density $p(x|y)$ to one w.r.t the density $g(x|z)$.\n",
    "\n",
    "$$\n",
    "\\begin{align*}\n",
    "\\int f(x) p(x|y) \\mathrm d x &= \\int f(x) \\frac{p(x|y)}{g(x|z)} g(x|z) \\mathrm d x\\\\\n",
    "&= \\int f(x) \\frac{p(y|x)}{g(z|x)} \\frac{g(z)}{p(y)} g(x|z) \\mathrm d x.\n",
    "\\end{align*}\n",
    "$$\n",
    "\n",
    "Let $w(x) = \\frac{p(y|x)}{g(z|x)} = \\frac{p(y|s)}{g(z|s)}$ be the (unnormalized) importance sampling weights which only depend on $s_t = B_t x_t$, $t = 0, \\dots, n$."
   ]
  },
  {
   "cell_type": "code",
   "execution_count": 2,
   "metadata": {},
   "outputs": [],
   "source": [
    "# | export\n",
    "from tensorflow_probability.substrates.jax.distributions import (\n",
    "    MultivariateNormalFullCovariance as MVN,\n",
    "    MultivariateNormalDiag as MVN_diag,\n",
    ")\n",
    "import jax.numpy as jnp\n",
    "from jaxtyping import Float, Array\n",
    "from jax import vmap\n",
    "from functools import partial\n",
    "from isssm.typing import PGSSM\n",
    "\n",
    "\n",
    "\n",
    "def log_weights_t(\n",
    "    s_t: Float[Array, \"p\"],  # signal\n",
    "    y_t: Float[Array, \"p\"],  # observation\n",
    "    xi_t: Float[Array, \"p\"],  # parameters\n",
    "    dist,  # observation distribution\n",
    "    z_t: Float[Array, \"p\"],  # synthetic observation\n",
    "    Omega_t: Float[Array, \"p p\"],  # synthetic observation covariance, assumed diagonal\n",
    ") -> Float:  # single log weight\n",
    "    \"\"\"Log weight for a single time point.\"\"\"\n",
    "    p_ys = dist(s_t, xi_t).log_prob(y_t).sum()\n",
    "\n",
    "    #g_zs = MVN(s_t, Omega_t).log_prob(z_t).sum()\n",
    "    # avoid triangular solve problems\n",
    "    omega_t = jnp.sqrt(jnp.diag(Omega_t))\n",
    "    g_zs = MVN_diag(s_t, omega_t).log_prob(z_t).sum()\n",
    "\n",
    "    return p_ys - g_zs\n",
    "\n",
    "\n",
    "def log_weights(\n",
    "    s: Float[Array, \"n+1 p\"],  # signals\n",
    "    y: Float[Array, \"n+1 p\"],  # observations\n",
    "    dist,  # observation distribution\n",
    "    xi: Float[Array, \"n+1 p\"],  # observation parameters\n",
    "    z: Float[Array, \"n+1 p\"],  # synthetic observations\n",
    "    Omega: Float[Array, \"n+1 p p\"],  # synthetic observation covariances:\n",
    ") -> Float[Array, \"n+1\"]:  # log weights\n",
    "    \"\"\"Log weights for all time points\"\"\"\n",
    "    p_ys = dist(s, xi).log_prob(y).sum()\n",
    "    #g_zs = MVN(s, Omega).log_prob(z).sum()\n",
    "    omega = jnp.sqrt(vmap(jnp.diag)(Omega))\n",
    "    # avoid triangulra solve problems\n",
    "    g_zs = MVN_diag(s, omega).log_prob(z).sum()\n",
    "\n",
    "    return p_ys - g_zs"
   ]
  },
  {
   "attachments": {},
   "cell_type": "markdown",
   "metadata": {},
   "source": [
    "Importance samples are generated from the smoothing distribution in the surrogate model, i.e. from  $g(x|z)$ using e.g. the [FFBS](10_kalman_filter_smoother.ipynb##FFBS) algorithm."
   ]
  },
  {
   "cell_type": "code",
   "execution_count": 3,
   "metadata": {},
   "outputs": [],
   "source": [
    "from isssm.pgssm import simulate_lcssm, nb_pgssm_runnning_example\n",
    "from isssm.mode_estimation import mode_estimation\n",
    "import matplotlib.pyplot as plt"
   ]
  },
  {
   "cell_type": "code",
   "execution_count": 4,
   "metadata": {},
   "outputs": [],
   "source": [
    "#| export\n",
    "from jaxtyping import Float, Array, PRNGKeyArray\n",
    "from isssm.kalman import FFBS, simulation_smoother\n",
    "import jax.random as jrn\n",
    "from isssm.typing import GLSSM\n",
    "\n",
    "v_log_weights = vmap(log_weights, (0, None, None, None, None, None))\n",
    "\n",
    "def lcssm_importance_sampling(\n",
    "    y: Float[Array, \"n+1 p\"],  # observations\n",
    "    model: PGSSM,\n",
    "    z: Float[Array, \"n+1 p\"],  # synthetic observations\n",
    "    Omega: Float[Array, \"n+1 p p\"],  # covariance of synthetic observations\n",
    "    N: int,  # number of samples\n",
    "    key: PRNGKeyArray  # random key\n",
    ") -> tuple[Float[Array, \"N n+1 m\"], Float[Array, \"N\"]]:  # importance samples and weights\n",
    "    x0, A, Sigma, B, dist, xi = model\n",
    "    glssm = GLSSM(x0, A, Sigma, B, Omega)\n",
    "\n",
    "    key, subkey = jrn.split(key)\n",
    "    s = simulation_smoother(glssm, z, N, subkey)\n",
    "    #samples = FFBS(z, glssm, N, subkey)\n",
    "\n",
    "    lw = v_log_weights(s, y, dist, xi, z, Omega)\n",
    "\n",
    "    return s, lw"
   ]
  },
  {
   "cell_type": "markdown",
   "metadata": {},
   "source": [
    "Let us perform importance sampling for our [running example](20_lcssm.ipynb#running) using the model obtained by [mode estimation](30_mode_estimation.ipynb)."
   ]
  },
  {
   "cell_type": "code",
   "execution_count": 16,
   "metadata": {},
   "outputs": [],
   "source": [
    "key = jrn.PRNGKey(51123122)\n",
    "key, subkey = jrn.split(key)\n",
    "model = nb_pgssm_runnning_example(n=10)\n",
    "N = 1\n",
    "(x, ), (y,) = simulate_lcssm(model, N, subkey)\n",
    "s_init = vmap(jnp.matmul)(model.B, x)\n",
    "x_smooth, z, Omega = mode_estimation(y, model, s_init, 100)"
   ]
  },
  {
   "cell_type": "code",
   "execution_count": 17,
   "metadata": {},
   "outputs": [
    {
     "data": {
      "image/png": "[encoded data removed]",
      "text/plain": [
       "<Figure size 640x480 with 1 Axes>"
      ]
     },
     "metadata": {},
     "output_type": "display_data"
    }
   ],
   "source": [
    "N = 1000\n",
    "key, subkey = jrn.split(key)\n",
    "samples, lw = lcssm_importance_sampling(y, model, z, Omega, N, subkey)\n",
    "plt.scatter(jnp.arange(N), lw)\n",
    "plt.show()"
   ]
  },
  {
   "attachments": {},
   "cell_type": "markdown",
   "metadata": {},
   "source": [
    "Weights should be calculated on the log scale, but we need them on the usual scale to use for Monte-Carlo integration. These are called **auto-normalised weights** and defined by $W(X^i) = \\frac{w(X^i)}{\\sum_{i = 1}^N w(X^i)}$.\n",
    "\n",
    "As weights are only known up to a constant, we make exponentiation numerically stable by substracting (on the log-scale) the largest weight, ensuring that $\\log w^i \\leq 0$ for all weights and so $\\sum_{i = 1}^N w^i \\leq N$. "
   ]
  },
  {
   "cell_type": "code",
   "execution_count": 18,
   "metadata": {},
   "outputs": [],
   "source": [
    "# | export\n",
    "from jaxtyping import Float, Array\n",
    "\n",
    "\n",
    "def normalize_weights(\n",
    "    log_weights: Float[Array, \"N\"]  # log importance sampling weights\n",
    ") -> Float[Array, \"N\"]:  # normalized importance sampling weights\n",
    "    \"\"\"Normalize importance sampling weights.\"\"\"\n",
    "    max_weight = jnp.max(log_weights)\n",
    "\n",
    "    log_weights_corrected = log_weights - max_weight\n",
    "\n",
    "    weights = jnp.exp(log_weights_corrected)\n",
    "\n",
    "    return weights / weights.sum()"
   ]
  },
  {
   "cell_type": "code",
   "execution_count": 19,
   "metadata": {},
   "outputs": [
    {
     "data": {
      "image/png": "[encoded data removed]",
      "text/plain": [
       "<Figure size 640x480 with 1 Axes>"
      ]
     },
     "metadata": {},
     "output_type": "display_data"
    }
   ],
   "source": [
    "weights = normalize_weights(lw)\n",
    "plt.boxplot(weights[None] * N)\n",
    "plt.show()"
   ]
  },
  {
   "attachments": {},
   "cell_type": "markdown",
   "metadata": {},
   "source": [
    "## Effective Sample Size\n",
    "\n",
    "The effective sample size is an important diagnostic for the performance of importance sampling, it is defined by\n",
    "\n",
    "$$\n",
    "\\text{ESS} = \\frac{\\left(\\sum_{i = 1}^{N} w(X^i)\\right)^2}{\\sum_{i = 1}^N w^2(X_i)} = \\frac{1}{\\sum_{i = 1}^N W^2(X^i)}\n",
    "$$\n",
    "\n",
    "To compare different approximations one may also be interested in $\\frac{\\text{ESS}}{N} \\cdot 100\\%$, the percentage of effective samples."
   ]
  },
  {
   "cell_type": "code",
   "execution_count": 20,
   "metadata": {},
   "outputs": [],
   "source": [
    "# | export\n",
    "from jaxtyping import Float, Array\n",
    "\n",
    "\n",
    "def ess(\n",
    "    normalized_weights: Float[Array, \"N\"]  # the normailzed weights\n",
    ") -> Float:  # the effective sample size\n",
    "    \"\"\"Compute the effective sample size of a set of normalized weights\"\"\"\n",
    "    return 1 / (normalized_weights**2).sum()\n",
    "\n",
    "\n",
    "def ess_lw(\n",
    "    log_weights: Float[Array, \"N\"]  # the log weights\n",
    ") -> Float:  # the effective sample size\n",
    "    \"\"\"Compute the effective sample size of a set of log weights\"\"\"\n",
    "    return ess(normalize_weights(log_weights))\n",
    "\n",
    "def ess_pct(log_weights):\n",
    "    N, = log_weights.shape\n",
    "    return ess_lw(log_weights) / N * 100 "
   ]
  },
  {
   "cell_type": "code",
   "execution_count": 21,
   "metadata": {},
   "outputs": [
    {
     "data": {
      "text/plain": [
       "(Array(282.84141396, dtype=float64), Array(28.2841414, dtype=float64))"
      ]
     },
     "execution_count": 21,
     "metadata": {},
     "output_type": "execute_result"
    }
   ],
   "source": [
    "ess(weights), ess_pct(lw)"
   ]
  },
  {
   "cell_type": "code",
   "execution_count": 22,
   "metadata": {},
   "outputs": [],
   "source": [
    "#| hide\n",
    "import nbdev; nbdev.nbdev_export()"
   ]
  }
 ],
 "metadata": {
  "kernelspec": {
   "display_name": "python3",
   "language": "python",
   "name": "python3"
  },
  "language_info": {
   "codemirror_mode": {
    "name": "ipython",
    "version": 3
   },
   "file_extension": ".py",
   "mimetype": "text/x-python",
   "name": "python",
   "nbconvert_exporter": "python",
   "pygments_lexer": "ipython3",
   "version": "3.10.13"
  }
 },
 "nbformat": 4,
 "nbformat_minor": 2
}
