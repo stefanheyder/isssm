{
 "cells": [
  {
   "cell_type": "code",
   "execution_count": null,
   "metadata": {},
   "outputs": [],
   "source": [
    "#| default_exp models.pgssm"
   ]
  },
  {
   "cell_type": "markdown",
   "metadata": {},
   "source": [
    "# Partially Gaussian State Space Models with linear Signal"
   ]
  },
  {
   "cell_type": "code",
   "execution_count": null,
   "metadata": {},
   "outputs": [],
   "source": [
    "#| export\n",
    "import jax.numpy as jnp\n",
    "from jaxtyping import Float\n",
    "from isssm.typing import GLSSM, PGSSM\n",
    "from tensorflow_probability.substrates.jax.distributions import NegativeBinomial as NBinom, Poisson\n",
    "\n",
    "def nb_pgssm(glssm:GLSSM, r: Float):\n",
    "    np1, p, m = glssm.B.shape\n",
    "    xi = jnp.full((np1, p), r)\n",
    "\n",
    "    def dist_nb(log_mu, xi):\n",
    "        mu = jnp.exp(log_mu)\n",
    "        return NBinom(r, probs = mu/(xi + mu))\n",
    "    return PGSSM(glssm.x0, glssm.A, glssm.Sigma, glssm.B, dist_nb, xi)\n",
    "\n",
    "def poisson_pgssm(glssm: GLSSM):\n",
    "    np1, p, m = glssm.B.shape\n",
    "    xi = jnp.empty((np1, p))\n",
    "\n",
    "    def dist_poisson(log_mu, xi):\n",
    "        return Poisson(log_rate = log_mu)\n",
    "    \n",
    "    return PGSSM(glssm.x0, glssm.A, glssm.Sigma, glssm.B, dist_poisson, xi)"
   ]
  },
  {
   "cell_type": "code",
   "execution_count": null,
   "metadata": {},
   "outputs": [],
   "source": [
    "#| hide\n",
    "import nbdev; nbdev.nbdev_export();"
   ]
  }
 ],
 "metadata": {
  "kernelspec": {
   "display_name": "python3",
   "language": "python",
   "name": "python3"
  },
  "language_info": {
   "name": "python",
   "version": "3.10.13"
  }
 },
 "nbformat": 4,
 "nbformat_minor": 2
}
