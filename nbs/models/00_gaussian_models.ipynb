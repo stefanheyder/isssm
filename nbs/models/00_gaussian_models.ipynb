{
 "cells": [
  {
   "cell_type": "code",
   "execution_count": null,
   "metadata": {},
   "outputs": [],
   "source": [
    "#| default_exp glssm_models\n",
    "%load_ext autoreload\n",
    "%autoreload 2"
   ]
  },
  {
   "cell_type": "code",
   "execution_count": null,
   "metadata": {},
   "outputs": [],
   "source": [
    "# imports for this notebook only\n",
    "import fastcore.test as fct"
   ]
  },
  {
   "attachments": {},
   "cell_type": "markdown",
   "metadata": {},
   "source": [
    "# Example gaussian models"
   ]
  },
  {
   "attachments": {},
   "cell_type": "markdown",
   "metadata": {},
   "source": [
    "\n",
    "## Locally constant model\n",
    "\n",
    "The locally costant model is a very basic example of a gaussian state space model. It is a univariate model with the following dynamics:\n",
    "\n",
    "$$\n",
    "\\begin{align*}\n",
    "    X_{t + 1} &= X_t + \\varepsilon_{t + 1} & & \\varepsilon_{t + 1} \\sim \\mathcal N(0, \\sigma^2_\\varepsilon), \\\\\n",
    "    Y_t &= X_t + \\eta_t && \\eta_{t} \\sim \\mathcal N(0, \\sigma^2_\\eta).\n",
    "\\end{align*}\n",
    "$$\n",
    "\n",
    "In this model the states $X_t$ perform a discrete time, univariate, random walk and are observed with noise $\\eta_t$. "
   ]
  },
  {
   "cell_type": "code",
   "execution_count": null,
   "metadata": {},
   "outputs": [],
   "source": [
    "# | export\n",
    "import jax.numpy as jnp\n",
    "from jaxtyping import Float, Array\n",
    "def lcm(n: int, x0: Float, s2_x0: Float, s2_eps: Float, s2_eta: Float):\n",
    "    \"\"\"Univariate locally constant model\n",
    "\n",
    "    Parameters\n",
    "    ----------\n",
    "    n : int\n",
    "        number of observations\n",
    "    x0 : Float\n",
    "        initial mean\n",
    "    s2_x0 : Float\n",
    "        initial variance\n",
    "    s2_eps : Float\n",
    "        variance of innovations\n",
    "    s2_eta : Float\n",
    "        variance of disturbances\n",
    "\n",
    "    Returns\n",
    "    -------\n",
    "    model\n",
    "        a GLSSM\n",
    "    \"\"\"\n",
    "    A = jnp.ones((n, 1, 1))\n",
    "    B = jnp.ones((n + 1, 1, 1))\n",
    "\n",
    "    Sigma = jnp.concatenate((s2_x0 * jnp.ones((1, 1, 1)), s2_eps * jnp.ones((n, 1, 1))))\n",
    "    Omega = jnp.ones((n + 1, 1, 1)) * s2_eta\n",
    "\n",
    "    x0 = jnp.array(x0).reshape((1,))\n",
    "\n",
    "    return x0, A, B, Sigma, Omega"
   ]
  },
  {
   "cell_type": "code",
   "execution_count": null,
   "metadata": {},
   "outputs": [],
   "source": [
    "n = 10\n",
    "x0, A, B, Sigma, Omega = lcm(n, 0., 1., 1., 1.)\n",
    "\n",
    "# assess that shapes are correct\n",
    "fct.test_eq(x0.shape, (1,))\n",
    "fct.test_eq(Sigma.shape, (n+1,1,1))\n",
    "fct.test_eq(Omega.shape, (n+1,1,1))\n",
    "fct.test_eq(A.shape, (n,1,1))\n",
    "fct.test_eq(B.shape, (n+1,1,1))"
   ]
  },
  {
   "attachments": {},
   "cell_type": "markdown",
   "metadata": {},
   "source": [
    "## Common factor locally constant model\n",
    "A model where we have two observations each being the sum of two states where one state is shared.\n",
    "\n",
    "$$\n",
    "\\begin{align*}\n",
    "    X_{t + 1} &= X_t + \\varepsilon_{t + 1} && \\varepsilon_{t + 1} \\sim \\mathcal N(0, \\sigma^2_\\varepsilon I_3) \\\\\n",
    "    Y_t &= \\begin{pmatrix} 1 & 0 & 1 \\\\ 0 & 1 & 1 \\end{pmatrix} X_t + \\eta_t && \\eta_t \\sim \\mathcal N(0, \\sigma^2_\\eta I_2)\n",
    "\\end{align*}\n",
    "$$"
   ]
  },
  {
   "cell_type": "code",
   "execution_count": null,
   "metadata": {},
   "outputs": [],
   "source": [
    "#| export\n",
    "def common_factor_lcm(n: int, x0: Float[Array, \"3\"], Sigma0: Float[Array, \"3 3\"], s2_eps: Float, s2_eta: Float):\n",
    "\n",
    "    if x0.shape != (3,):\n",
    "        raise ValueError(f\"x0 does not have the correct shape, expected (3,) but got {x0.shape}\")\n",
    "    \n",
    "    A = jnp.broadcast_to(jnp.eye(3), (n, 3, 3))\n",
    "    B = jnp.broadcast_to(jnp.array([[1,0,1], [0,1,1]]), (n+1,2,3))\n",
    "    Sigma = jnp.concatenate(\n",
    "        (Sigma0[None], s2_eps * jnp.broadcast_to(jnp.eye(3), (n,3,3)))\n",
    "    )\n",
    "    Omega = s2_eta * jnp.broadcast_to(jnp.eye(2), (n+1,2,2))\n",
    "    \n",
    "    return x0, A, B, Sigma, Omega"
   ]
  },
  {
   "cell_type": "code",
   "execution_count": null,
   "metadata": {},
   "outputs": [],
   "source": [
    "n = 10\n",
    "x0, A, B, Sigma, Omega = common_factor_lcm(n, jnp.zeros(3), jnp.eye(3), 1., 1.)\n",
    "\n",
    "# assess that shapes are correct\n",
    "fct.test_eq(x0.shape, (3,))\n",
    "fct.test_eq(Sigma.shape, (n+1,3,3))\n",
    "fct.test_eq(Omega.shape, (n+1,2,2))\n",
    "fct.test_eq(A.shape, (n,3,3))\n",
    "fct.test_eq(B.shape, (n+1,2,3))"
   ]
  },
  {
   "cell_type": "markdown",
   "metadata": {},
   "source": [
    "## Stationary AR(1) model\n",
    "\n",
    "States form a stationary AR(1) process with stationary distribution $\\mathcal N(\\mu, \\tau^2)$, observed with noise \n",
    "$$\n",
    "\\begin{align*}\n",
    "    \\alpha &\\in \\left( -1, 1\\right) \\\\\n",
    "     \\sigma^2 &= (1 - \\alpha^2)\\tau^2\\\\\n",
    "    X_{t + 1} &= \\mu + \\alpha (X_t - \\mu) + \\varepsilon_{t + 1}\\\\\n",
    "    \\varepsilon_t &\\sim \\mathcal N(0, \\sigma^2)\\\\\n",
    "    Y_t &= X_t + \\eta_t \\\\\n",
    "    \\eta_t &\\sim \\mathcal N(0, \\omega^2)\n",
    "\\end{align*}\n",
    "$$\n"
   ]
  },
  {
   "cell_type": "code",
   "execution_count": null,
   "metadata": {},
   "outputs": [],
   "source": [
    "#| export\n",
    "def ar1(mu, tau2, alpha, omega2, n):\n",
    "    x0 = mu\n",
    "    A = jnp.tile(alpha * jnp.eye(1)[None], (n, 1, 1))\n",
    "    B = jnp.tile(jnp.eye(1)[None], (n + 1, 1, 1))\n",
    "\n",
    "    sigma2 = (1 - alpha ** 2) * tau2\n",
    "    Sigma = jnp.concatenate((tau2 * jnp.ones((1, 1, 1)), sigma2 * jnp.ones((n, 1, 1))))\n",
    "\n",
    "    Omega = omega2 * jnp.ones((n + 1, 1, 1))\n",
    "\n",
    "    return x0, A, B, Sigma, Omega"
   ]
  },
  {
   "cell_type": "code",
   "execution_count": null,
   "metadata": {},
   "outputs": [],
   "source": [
    "import nbdev\n",
    "nbdev.nbdev_export()"
   ]
  }
 ],
 "metadata": {
  "kernelspec": {
   "display_name": "python3",
   "language": "python",
   "name": "python3"
  },
  "language_info": {
   "name": "python",
   "version": "3.10.13"
  }
 },
 "nbformat": 4,
 "nbformat_minor": 2
}
