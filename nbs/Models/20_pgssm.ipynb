{
 "cells": [
  {
   "cell_type": "code",
   "execution_count": null,
   "metadata": {},
   "outputs": [],
   "source": [
    "# | default_exp models.pgssm"
   ]
  },
  {
   "cell_type": "markdown",
   "metadata": {},
   "source": [
    "# Partially Gaussian State Space Models with linear Signal"
   ]
  },
  {
   "cell_type": "code",
   "execution_count": null,
   "metadata": {},
   "outputs": [],
   "source": [
    "# | export\n",
    "import jax.numpy as jnp\n",
    "from jaxtyping import Float\n",
    "from isssm.typing import GLSSM, PGSSM\n",
    "from tensorflow_probability.substrates.jax.distributions import (\n",
    "    NegativeBinomial as NBinom,\n",
    "    Poisson,\n",
    ")\n",
    "\n",
    "\n",
    "def nb_pgssm(glssm: GLSSM, r: Float):\n",
    "    np1, p, m = glssm.B.shape\n",
    "    xi = jnp.full((np1, p), r)\n",
    "\n",
    "    def dist_nb(log_mu, xi):\n",
    "        mu = jnp.exp(log_mu)\n",
    "        return NBinom(xi, probs=mu / (xi + mu))\n",
    "\n",
    "    return PGSSM(\n",
    "        glssm.u,\n",
    "        glssm.A,\n",
    "        glssm.D,\n",
    "        glssm.Sigma0,\n",
    "        glssm.Sigma,\n",
    "        glssm.v,\n",
    "        glssm.B,\n",
    "        dist_nb,\n",
    "        xi,\n",
    "    )\n",
    "\n",
    "\n",
    "def poisson_pgssm(glssm: GLSSM):\n",
    "    np1, p, m = glssm.B.shape\n",
    "    xi = jnp.empty((np1, p))\n",
    "\n",
    "    def dist_poisson(log_mu, xi):\n",
    "        return Poisson(log_rate=log_mu)\n",
    "\n",
    "    return PGSSM(\n",
    "        glssm.u,\n",
    "        glssm.A,\n",
    "        glssm.D,\n",
    "        glssm.Sigma0,\n",
    "        glssm.Sigma,\n",
    "        glssm.v,\n",
    "        glssm.B,\n",
    "        dist_poisson,\n",
    "        xi,\n",
    "    )"
   ]
  },
  {
   "cell_type": "code",
   "execution_count": null,
   "metadata": {},
   "outputs": [],
   "source": [
    "# | hide\n",
    "import nbdev\n",
    "\n",
    "nbdev.nbdev_export()"
   ]
  }
 ],
 "metadata": {
  "kernelspec": {
   "display_name": "python3",
   "language": "python",
   "name": "python3"
  }
 },
 "nbformat": 4,
 "nbformat_minor": 2
}
