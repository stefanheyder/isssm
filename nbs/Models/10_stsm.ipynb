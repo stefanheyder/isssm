{
 "cells": [
  {
   "cell_type": "code",
   "execution_count": null,
   "metadata": {},
   "outputs": [],
   "source": [
    "# | default_exp models.stsm"
   ]
  },
  {
   "cell_type": "code",
   "execution_count": null,
   "metadata": {},
   "outputs": [],
   "source": [
    "# | export\n",
    "import jax\n",
    "import jax.numpy as jnp\n",
    "from jaxtyping import Float, Array\n",
    "from isssm.typing import GLSSM\n",
    "import jax.scipy as jsp"
   ]
  },
  {
   "cell_type": "code",
   "execution_count": null,
   "metadata": {},
   "outputs": [],
   "source": [
    "from isssm.glssm import simulate_glssm\n",
    "import jax.random as jrn\n",
    "import matplotlib.pyplot as plt\n",
    "from isssm.kalman import kalman, smoother\n",
    "from isssm.models.glssm import mv_ar1"
   ]
  },
  {
   "cell_type": "markdown",
   "metadata": {},
   "source": [
    "# Basic Structural Time Series Model\n",
    "> 2-nd order stationary time series with seasonal component"
   ]
  },
  {
   "cell_type": "markdown",
   "metadata": {},
   "source": [
    "We implement the univariate model from Chapter 3.2.2 in [@Durbin2012Time] and refer the reader to their discussion."
   ]
  },
  {
   "cell_type": "code",
   "execution_count": null,
   "metadata": {},
   "outputs": [],
   "source": [
    "# | export\n",
    "def stsm(\n",
    "    x0: Float[Array, \"m\"],  # initial state\n",
    "    s2_mu: Float,  # variance of trend innovations\n",
    "    s2_nu: Float,  # variance of velocity innovations\n",
    "    s2_seasonal: Float,  # variance of velocity innovations\n",
    "    n: int,  # number of time points\n",
    "    Sigma0: Float[Array, \"m m\"],  # initial state covariance\n",
    "    o2: Float,  # variance of observation noise\n",
    "    s_order: int,  # order of seasonal component\n",
    "    alpha_velocity: Float = 1.0,  # dampening factor for velocity\n",
    ") -> GLSSM:\n",
    "\n",
    "    A = jnp.array([[1, 1], [0, alpha_velocity]])\n",
    "    B = jnp.array([[1, 0]])\n",
    "\n",
    "    Sigma = jnp.diag(jnp.array([s2_mu, s2_nu]))\n",
    "\n",
    "    has_seasonality = s_order >= 2\n",
    "    if has_seasonality:\n",
    "        A_seasonal = jnp.block(\n",
    "            [\n",
    "                [-jnp.ones((1, s_order - 2)), -jnp.ones((1, 1))],\n",
    "                [jnp.eye(s_order - 2), jnp.zeros((s_order - 2, 1))],\n",
    "            ]\n",
    "        )\n",
    "        B_seasonal = (jnp.eye(s_order - 1)[0])[None, :]\n",
    "        Sigma_seasonal = jnp.eye(1) * s2_seasonal\n",
    "\n",
    "        A = jsp.linalg.block_diag(A, A_seasonal)\n",
    "        B = jnp.concatenate((B, B_seasonal), axis=1)\n",
    "        Sigma = jsp.linalg.block_diag(Sigma, Sigma_seasonal)\n",
    "\n",
    "    l = 3 if has_seasonality else 2\n",
    "    m = (s_order - 1) + 2 if has_seasonality else 2\n",
    "    p = 1\n",
    "\n",
    "    A = jnp.broadcast_to(A, (n, m, m))\n",
    "    B = jnp.broadcast_to(B, (n + 1, p, m))\n",
    "    D = jnp.broadcast_to(jnp.eye(m)[:, :l], (n, m, l))\n",
    "\n",
    "    Sigma = jnp.broadcast_to(Sigma, (n, l, l))\n",
    "\n",
    "    Omega = jnp.broadcast_to(jnp.diag(jnp.array([o2])), (n + 1, p, p))\n",
    "\n",
    "    u = jnp.zeros((n + 1, m)).at[0].set(x0)\n",
    "    v = jnp.zeros((n + 1, p))\n",
    "\n",
    "    return GLSSM(u, A, D, Sigma0, Sigma, v, B, Omega)"
   ]
  },
  {
   "cell_type": "code",
   "execution_count": null,
   "metadata": {},
   "outputs": [],
   "source": [
    "s_ord = 4\n",
    "glssm = stsm(\n",
    "    jnp.zeros(2 + s_ord - 1),\n",
    "    0.0,\n",
    "    0.01,\n",
    "    1.0,\n",
    "    100,\n",
    "    jnp.eye(2 + s_ord - 1),\n",
    "    1.0,\n",
    "    s_ord,\n",
    "    0.5,\n",
    ")\n",
    "key = jrn.PRNGKey(534512423)\n",
    "key, subkey = jrn.split(key)\n",
    "(x,), (y,) = simulate_glssm(glssm, 1, subkey)\n",
    "\n",
    "x_smooth, _ = smoother(kalman(y, glssm), glssm.A)\n",
    "\n",
    "fig, axs = plt.subplots(1, 3, figsize=(12, 4))\n",
    "fig.tight_layout()\n",
    "axs[0].set_title(\"observations\")\n",
    "axs[0].plot(y)\n",
    "axs[1].set_title(\"states\")\n",
    "axs[1].plot(x)\n",
    "axs[2].set_title(\"smoothed states\")\n",
    "axs[2].plot(x_smooth)\n",
    "plt.show()"
   ]
  },
  {
   "cell_type": "code",
   "execution_count": null,
   "metadata": {},
   "outputs": [],
   "source": [
    "# | hide\n",
    "import nbdev\n",
    "\n",
    "nbdev.nbdev_export()"
   ]
  }
 ],
 "metadata": {
  "kernelspec": {
   "display_name": "research",
   "language": "python",
   "name": "python3"
  },
  "language_info": {
   "name": "python",
   "version": "3.10.13"
  }
 },
 "nbformat": 4,
 "nbformat_minor": 2
}
