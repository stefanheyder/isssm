{
 "cells": [
  {
   "cell_type": "code",
   "execution_count": null,
   "metadata": {},
   "outputs": [],
   "source": [
    "#| default_exp models.glssm\n",
    "%load_ext autoreload\n",
    "%autoreload 2"
   ]
  },
  {
   "cell_type": "code",
   "execution_count": null,
   "metadata": {},
   "outputs": [],
   "source": [
    "# imports for this notebook only\n",
    "import fastcore.test as fct"
   ]
  },
  {
   "attachments": {},
   "cell_type": "markdown",
   "metadata": {},
   "source": [
    "# Example gaussian models "
   ]
  },
  {
   "attachments": {},
   "cell_type": "markdown",
   "metadata": {},
   "source": [
    "\n",
    "## Locally constant model\n",
    "\n",
    "The locally costant model is a very basic example of a gaussian state space model. It is a univariate model with the following dynamics:\n",
    "\n",
    "$$\n",
    "\\begin{align*}\n",
    "    X_{t + 1} &= X_t + \\varepsilon_{t + 1} & & \\varepsilon_{t + 1} \\sim \\mathcal N(0, \\sigma^2_\\varepsilon), \\\\\n",
    "    Y_t &= X_t + \\eta_t && \\eta_{t} \\sim \\mathcal N(0, \\sigma^2_\\eta).\n",
    "\\end{align*}\n",
    "$$\n",
    "\n",
    "In this model the states $X_t$ perform a discrete time, univariate, random walk and are observed with noise $\\eta_t$. "
   ]
  },
  {
   "cell_type": "code",
   "execution_count": null,
   "metadata": {},
   "outputs": [],
   "source": [
    "# | export\n",
    "import jax.numpy as jnp\n",
    "from jaxtyping import Float, Array\n",
    "from isssm.typing import GLSSM\n",
    "\n",
    "\n",
    "def lcm(\n",
    "    n: int,  # number of time steps\n",
    "    x0: Float,  # initial value\n",
    "    s2_x0: Float,  # initial variance\n",
    "    s2_eps: Float,  # innovation variance\n",
    "    s2_eta: Float,  # observation noise variance\n",
    ") -> GLSSM:  # the locally constant model\n",
    "    A = jnp.ones((n, 1, 1))\n",
    "    B = jnp.ones((n + 1, 1, 1))\n",
    "\n",
    "    Sigma = jnp.concatenate((s2_x0 * jnp.ones((1, 1, 1)), s2_eps * jnp.ones((n, 1, 1))))\n",
    "    Omega = jnp.ones((n + 1, 1, 1)) * s2_eta\n",
    "\n",
    "    u = jnp.zeros((n + 1, 1)).at[0].set(x0)\n",
    "    v = jnp.zeros((n + 1, 1))\n",
    "    return GLSSM(u, A, Sigma, v, B, Omega)"
   ]
  },
  {
   "cell_type": "code",
   "execution_count": null,
   "metadata": {},
   "outputs": [],
   "source": [
    "n = 10\n",
    "u, A, Sigma, v, B, Omega = lcm(n, 0.0, 1.0, 1.0, 1.0)\n",
    "\n",
    "# assess that shapes are correct\n",
    "fct.test_eq(u.shape, (n + 1, 1))\n",
    "fct.test_eq(A.shape, (n, 1, 1))\n",
    "fct.test_eq(Sigma.shape, (n + 1, 1, 1))\n",
    "fct.test_eq(v.shape, (n + 1, 1))\n",
    "fct.test_eq(B.shape, (n + 1, 1, 1))\n",
    "fct.test_eq(Omega.shape, (n + 1, 1, 1))"
   ]
  },
  {
   "cell_type": "markdown",
   "metadata": {},
   "source": [
    "## Stationary AR(1) model\n",
    "\n",
    "States form a stationary AR(1) process with stationary distribution $\\mathcal N(\\mu, \\tau^2)$, observed with noise \n",
    "$$\n",
    "\\begin{align*}\n",
    "    \\alpha &\\in \\left( -1, 1\\right) \\\\\n",
    "     \\sigma^2 &= (1 - \\alpha^2)\\tau^2\\\\\n",
    "    X_{t + 1} &= \\mu + \\alpha (X_t - \\mu) + \\varepsilon_{t + 1}\\\\\n",
    "    \\varepsilon_t &\\sim \\mathcal N(0, \\sigma^2)\\\\\n",
    "    Y_t &= X_t + \\eta_t \\\\\n",
    "    \\eta_t &\\sim \\mathcal N(0, \\omega^2)\n",
    "\\end{align*}\n",
    "$$\n"
   ]
  },
  {
   "cell_type": "code",
   "execution_count": null,
   "metadata": {},
   "outputs": [],
   "source": [
    "# | export\n",
    "def ar1(\n",
    "    mu: Float,  # stationary mean\n",
    "    tau2: Float,  # stationary variance\n",
    "    alpha,  # dampening factor\n",
    "    omega2,  # observation noise\n",
    "    n: int,  # number of time steps\n",
    ") -> GLSSM:\n",
    "    x0 = jnp.array([mu])\n",
    "    A = jnp.tile(alpha * jnp.eye(1)[None], (n, 1, 1))\n",
    "    B = jnp.tile(jnp.eye(1)[None], (n + 1, 1, 1))\n",
    "\n",
    "    sigma2 = (1 - alpha**2) * tau2\n",
    "    Sigma = jnp.concatenate((tau2 * jnp.ones((1, 1, 1)), sigma2 * jnp.ones((n, 1, 1))))\n",
    "\n",
    "    Omega = omega2 * jnp.ones((n + 1, 1, 1))\n",
    "\n",
    "    u = jnp.zeros((n + 1, 1)).at[0].set(x0)\n",
    "    v = jnp.zeros((n + 1, 1))\n",
    "\n",
    "    return GLSSM(u, A, Sigma, v, B, Omega)"
   ]
  },
  {
   "cell_type": "markdown",
   "metadata": {},
   "source": [
    "In the multivariate setting, the model reads\n",
    "\n",
    "\n",
    "$$\n",
    "\\begin{align*}\n",
    "    \\alpha &\\in \\left( -1, 1\\right) \\\\\n",
    "    \\Sigma &= (1 - \\alpha^2)\\Tau\\\\\n",
    "    X_{t + 1} &= \\mu + \\alpha (X_t - \\mu) + \\varepsilon_{t + 1}\\\\\n",
    "    \\varepsilon_t &\\sim \\mathcal N(0, \\Sigma)\\\\\n",
    "    X_{0} &\\sim \\mathcal N(\\mu, \\Tau) \\\\\n",
    "    Y_t &= X_t + \\eta_t \\\\\n",
    "    \\eta_t &\\sim \\mathcal N(0, \\Omega),\n",
    "\\end{align*}\n",
    "$$\n",
    "\n",
    "where now $\\Tau$ is the stationary covariance matrix.\n"
   ]
  },
  {
   "cell_type": "code",
   "execution_count": null,
   "metadata": {},
   "outputs": [],
   "source": [
    "# | export\n",
    "def mv_ar1(\n",
    "    mu: Float[Array, \"m\"],  # stationary mean\n",
    "    Tau: Float[Array, \"m m\"],  # stationary covariance\n",
    "    alpha: Float,  # dampening factor\n",
    "    omega2: Float,  # observation noise\n",
    "    n: int,  # number of time steps\n",
    ") -> GLSSM:\n",
    "    x0 = mu\n",
    "    (m,) = mu.shape\n",
    "\n",
    "    A = jnp.broadcast_to(alpha * jnp.eye(m)[None], (n, m, m))\n",
    "    B = jnp.broadcast_to(jnp.eye(m)[None], (n + 1, m, m))\n",
    "\n",
    "    Sigma = jnp.concatenate(\n",
    "        (Tau[None], jnp.broadcast_to((1 - alpha**2) * Tau * jnp.eye(m), (n, m, m)))\n",
    "    )\n",
    "    Omega = jnp.broadcast_to(omega2 * jnp.eye(m)[None], (n + 1, m, m))\n",
    "    u = jnp.zeros((n + 1, m)).at[0].set(x0)\n",
    "    v = jnp.zeros((n + 1, m))\n",
    "    return GLSSM(u, A, Sigma, v, B, Omega)"
   ]
  },
  {
   "cell_type": "code",
   "execution_count": null,
   "metadata": {},
   "outputs": [],
   "source": [
    "import nbdev\n",
    "\n",
    "nbdev.nbdev_export()"
   ]
  }
 ],
 "metadata": {
  "kernelspec": {
   "display_name": "python3",
   "language": "python",
   "name": "python3"
  }
 },
 "nbformat": 4,
 "nbformat_minor": 2
}
