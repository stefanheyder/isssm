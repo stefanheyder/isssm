{
 "cells": [
  {
   "cell_type": "code",
   "execution_count": null,
   "metadata": {},
   "outputs": [],
   "source": [
    "#| default_exp glssm_models\n",
    "%load_ext autoreload\n",
    "%autoreload 2"
   ]
  },
  {
   "cell_type": "code",
   "execution_count": null,
   "metadata": {},
   "outputs": [],
   "source": [
    "# imports for this notebook only\n",
    "import fastcore.test as fct"
   ]
  },
  {
   "attachments": {},
   "cell_type": "markdown",
   "metadata": {},
   "source": [
    "# Example gaussian models\n",
    "\n",
    "## Locally constant model\n",
    "\n",
    "The locally costant model is a very basic example of a gaussian state space model. It is a univariate model with the following dynamics:\n",
    "\n",
    "$$\n",
    "\\begin{align*}\n",
    "    X_{t + 1} &= X_t + \\varepsilon_{t + 1} & & \\varepsilon_{t + 1} \\sim \\mathcal N(0, \\sigma^2_\\varepsilon) \\\\\n",
    "    Y_t &= X_t + \\eta_t && \\eta_{t} \\sim \\mathcal N(0, \\sigma^2_\\eta)\n",
    "\\end{align*}\n",
    "$$"
   ]
  },
  {
   "cell_type": "code",
   "execution_count": null,
   "metadata": {},
   "outputs": [],
   "source": [
    "# | export\n",
    "import jax.numpy as jnp\n",
    "def lcm(n, x0, s2_x0, s2_eps, s2_eta):\n",
    "    A = jnp.ones((n, 1, 1))\n",
    "    B = jnp.ones((n + 1, 1, 1))\n",
    "\n",
    "    Sigma = jnp.concatenate((s2_x0 * jnp.ones((1, 1, 1)), s2_eps * jnp.ones((n, 1, 1))))\n",
    "    Omega = jnp.ones((n + 1, 1, 1)) * s2_eta\n",
    "\n",
    "    x0 = jnp.array(x0).reshape((1,))\n",
    "\n",
    "    return x0, A, B, Sigma, Omega"
   ]
  },
  {
   "cell_type": "code",
   "execution_count": null,
   "metadata": {},
   "outputs": [
    {
     "name": "stderr",
     "output_type": "stream",
     "text": [
      "No GPU/TPU found, falling back to CPU. (Set TF_CPP_MIN_LOG_LEVEL=0 and rerun for more info.)\n"
     ]
    }
   ],
   "source": [
    "n = 10\n",
    "x0, A, B, Sigma, Omega = lcm(n, 0., 1., 1., 1.)\n",
    "\n",
    "# assess that shapes are correct\n",
    "fct.test_eq(x0.shape, (1,))\n",
    "fct.test_eq(Sigma.shape, (n+1,1,1))\n",
    "fct.test_eq(Omega.shape, (n+1,1,1))\n",
    "fct.test_eq(A.shape, (n,1,1))\n",
    "fct.test_eq(B.shape, (n+1,1,1))"
   ]
  },
  {
   "attachments": {},
   "cell_type": "markdown",
   "metadata": {},
   "source": [
    "## Common factor locally constant model\n",
    "A model where we have two observations each being the sum of two states where one state is shared.\n",
    "\n",
    "$$\n",
    "\\begin{align*}\n",
    "    X_{t + 1} &= X_t + \\varepsilon_{t + 1} && \\varepsilon_{t + 1} \\sim \\mathcal N(0, \\sigma^2_\\varepsilon I_3) \\\\\n",
    "    Y_t &= \\begin{pmatrix} 1 & 0 & 1 \\\\ 0 & 1 & 1 \\end{pmatrix} X_t + \\eta_t && \\eta_t \\sim \\mathcal N(0, \\sigma^2_\\eta I_2)\n",
    "\\end{align*}\n",
    "$$"
   ]
  },
  {
   "cell_type": "code",
   "execution_count": null,
   "metadata": {},
   "outputs": [],
   "source": [
    "#| export\n",
    "def common_factor_lcm(n, x0, Sigma0, s2_eps, s2_eta):\n",
    "\n",
    "    if x0.shape != (3,):\n",
    "        raise ValueError(f\"x0 does not have the correct shape, expected (3,) but got {x0.shape}\")\n",
    "    \n",
    "    A = jnp.broadcast_to(jnp.eye(3), (n, 3, 3))\n",
    "    B = jnp.broadcast_to(jnp.array([[1,0,1], [0,1,1]]), (n+1,2,3))\n",
    "    Sigma = jnp.concatenate(\n",
    "        (Sigma0[None], s2_eps * jnp.broadcast_to(jnp.eye(3), (n,3,3)))\n",
    "    )\n",
    "    Omega = s2_eta * jnp.broadcast_to(jnp.eye(2), (n+1,2,2))\n",
    "    \n",
    "    return x0, A, B, Sigma, Omega"
   ]
  },
  {
   "cell_type": "code",
   "execution_count": null,
   "metadata": {},
   "outputs": [],
   "source": [
    "n = 10\n",
    "x0, A, B, Sigma, Omega = common_factor_lcm(n, jnp.zeros(3), jnp.eye(3), 1., 1.)\n",
    "\n",
    "# assess that shapes are correct\n",
    "fct.test_eq(x0.shape, (3,))\n",
    "fct.test_eq(Sigma.shape, (n+1,3,3))\n",
    "fct.test_eq(Omega.shape, (n+1,2,2))\n",
    "fct.test_eq(A.shape, (n,3,3))\n",
    "fct.test_eq(B.shape, (n+1,2,3))"
   ]
  },
  {
   "cell_type": "code",
   "execution_count": null,
   "metadata": {},
   "outputs": [],
   "source": [
    "import nbdev\n",
    "nbdev.nbdev_export()"
   ]
  }
 ],
 "metadata": {
  "kernelspec": {
   "display_name": "python3",
   "language": "python",
   "name": "python3"
  }
 },
 "nbformat": 4,
 "nbformat_minor": 2
}
