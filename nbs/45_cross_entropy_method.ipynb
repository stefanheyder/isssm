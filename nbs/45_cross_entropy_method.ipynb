{
 "cells": [
  {
   "cell_type": "code",
   "execution_count": null,
   "metadata": {},
   "outputs": [],
   "source": [
    "#| default_exp ce_method"
   ]
  },
  {
   "cell_type": "code",
   "execution_count": null,
   "metadata": {},
   "outputs": [],
   "source": [
    "#| export\n",
    "import jax.numpy as jnp\n",
    "import jax.scipy as jsp\n",
    "import jax.random as jrn\n",
    "from jax import vmap\n",
    "from isssm.importance_sampling import ess_pct\n",
    "from isssm.lcssm import log_prob as log_prob_joint\n",
    "import tensorflow_probability.substrates.jax.distributions as tfd\n",
    "from jaxtyping import Float, Array, PRNGKeyArray\n",
    "from typing import Tuple"
   ]
  },
  {
   "cell_type": "code",
   "execution_count": null,
   "metadata": {},
   "outputs": [],
   "source": [
    "#|hide \n",
    "import jax\n",
    "config = jax.config\n",
    "from tensorflow_probability.substrates.jax.distributions import MultivariateNormalFullCovariance as MVN\n",
    "config.update(\"jax_enable_x64\", True)\n",
    "import fastcore.test as fct\n",
    "from isssm.lcssm import nb_lcssm, simulate_lcssm\n",
    "from isssm.mode_estimation import mode_estimation\n",
    "from isssm.importance_sampling import lcssm_importance_sampling\n",
    "import matplotlib.pyplot as plt"
   ]
  },
  {
   "cell_type": "markdown",
   "metadata": {},
   "source": [
    "# Cross-Entropy method"
   ]
  },
  {
   "cell_type": "markdown",
   "metadata": {},
   "source": [
    "> [!CAUTION]\n",
    "> this module is still under construction"
   ]
  },
  {
   "cell_type": "markdown",
   "metadata": {},
   "source": [
    "The cross entropy method [@Rubinstein1997Optimization;@Rubinstein2004CrossEntropy] is a method for determining good importance sampling proposals. Given a parametric family of proposals $g_\\theta(x)$ and target $p(x)$, the Cross-Entropy method aims at choosing $\\theta$ such that the Cross Entropy \n",
    "$$\n",
    "\\mathcal H_{\\text{CE}} \\left( p \\middle|\\middle| g_{\\theta} \\right) = \\int p(x) \\log g_{\\theta}(x) \\mathrm d x\n",
    "$$\n",
    "is maximized. This is equivalent to minimizing the Kullback Leibler divergence between $p$ and $g_\\theta$. As $H_\\text{CE}$ is not analytically available, it is approximated by importance sampling itself, usually with a suitable proposal $g_{\\hat\\theta_0}$. Then the approximate optimization problem is solved, yielding $\\hat \\theta_1$. These steps are then iterated until convergence, using common random numbers to ensure convergence."
   ]
  },
  {
   "cell_type": "markdown",
   "metadata": {},
   "source": [
    "Considering the Cross-Entropy method with a Gaussian proposal $g_\\theta$, we see that the optimal $\\theta$ only depends on the first and second order moments of $p$, indeed the optimal Gaussian is the one that matches these moments. Unfortunately this approach is not feasible for the models we consider in this package as the dimensionality ($n \\cdot m$) is likely too high to act on the joint distribution directly - matching means is feasible, but simulating from the distribution and evaluating the likelihood is infeasible. However, we can exploit the Markov structure of our models:\n",
    "\n",
    "For the class of state space models treated in this package, it can be shown that the smoothing distribution, the target of our inference, $p(x|y)$, is again a Markov process, see Chapter 5 in [@Chopin2020Introduction], so it makes sense to approximate this distribution with a Gaussian Markov process.\n",
    "For such a Gaussian Markov process it is known that the precision matrix $P$ of the joint distribution is sparse, indeed it is a block-tri-diagonal matrix.\n"
   ]
  },
  {
   "cell_type": "markdown",
   "metadata": {},
   "source": [
    "## computation of Cholesky factor $L$ of $P$\n",
    "[@Schafer2021Sparse] show that the centered Gaussian Markov process (more generally any Gaussian distribution with given sparsity) which minimizes the Kullback-Leibler divergence to a centered Gaussian with specified covariance matrix has an analytically and numerically tractable Cholesky decomposition that can be computed fast. Using this Cholesky decomposition we are able to evaluate the likelihood and simulate from this distribution.\n",
    "\n",
    "Consider states $X_t$ consisting of $m$ states $X_{t,1}, \\dots, X_{t, m}$. The $i$-th $v_{i}$ column of the KL-optimal Cholesky decomposition corresponding to $X_t$ can, by [@Schafer2021Sparse], be obtained by \n",
    "$$\n",
    "v_{i} = \\frac{1}{\\lambda_{i}}\\text{Cov} \\left(X_{t,i}, \\dots, X_{t,m}, X_{t+1, 1}, \\dots, X_{t+1, m} \\right)^{-1} e_{1}\n",
    "$$\n",
    "where $\\lambda_i$ is the square root of the first entry of the matrix vector product on the right-hand side and $e_{1}$ is the first unit vector. If $t=n$, then it suffices to replace above covariance with $\\text{Cov}\\left(X_{t,i}, \\dots, X_{t,m}\\right)$. In our setup we replace the exact covariance by an importance sampling estimate with weights $w^i$, $i = 1, \\dots, n$."
   ]
  },
  {
   "cell_type": "code",
   "execution_count": null,
   "metadata": {},
   "outputs": [],
   "source": [
    "# | export\n",
    "def ce_cholesky_block(\n",
    "    x: Float[Array, \"N m\"],  # samples of $X_t$\n",
    "    x_next: Float[Array, \"N m\"],  # samples of $X_{t+1}$\n",
    "    weights: Float[Array, \"N\"],  # $w$, need not be normalized\n",
    ") -> Float[Array, \"2*m m\"]:  # Cholesky factor\n",
    "    \"\"\"Calculate the columns and section of rows of the Cholesky factor of $P$ corresponding to $X_t$, $t < n$.\"\"\"\n",
    "    _, m = x.shape\n",
    "    joint_x = jnp.concatenate([x, x_next], axis=1)\n",
    "    weights = weights / weights.sum()\n",
    "\n",
    "    joint_mean = jnp.sum(joint_x * weights[:, None], axis=0)\n",
    "    cov = jnp.atleast_2d(\n",
    "        jnp.sum(\n",
    "            (joint_x[:, :, None] @ joint_x[:, None, :]) * weights[:, None, None], axis=0\n",
    "        )\n",
    "        - joint_mean[:, None] @ joint_mean[None, :]\n",
    "    )\n",
    "\n",
    "    L = jnp.zeros((2 * m, m))\n",
    "    for i in range(m):\n",
    "        sub_cov = cov[i:, i:]\n",
    "        v = jnp.linalg.solve(sub_cov, jnp.eye(2 * m - i)[0])\n",
    "        lam = jnp.sqrt(v[0])\n",
    "        L = L.at[i:, i].set(v / lam)\n",
    "\n",
    "    return L\n",
    "\n",
    "\n",
    "def ce_cholesky_last(\n",
    "    x: Float[Array, \"N m\"],  # samples of $X_n$\n",
    "    weights: Float[Array, \"N\"],  # $w$, need not be normalized\n",
    ") -> Float[Array, \"m m\"]:  # Cholesky factor\n",
    "    \"\"\"Calculate the Cholesky factor of $P$ corresponding to $X_n$.\"\"\"\n",
    "    _, m = x.shape\n",
    "    L = jnp.zeros((m, m))\n",
    "    weights = weights / weights.sum()\n",
    "\n",
    "    mean = jnp.sum(x * weights[:, None], axis=0)\n",
    "\n",
    "    cov = jnp.atleast_2d(\n",
    "        jnp.sum((x[:, :, None] @ x[:, None, :]) * weights[:, None, None])\n",
    "        - mean @ mean.T\n",
    "    )\n",
    "\n",
    "    for i in range(m):\n",
    "        sub_cov = cov[i:, i:]\n",
    "        v = jnp.linalg.solve(sub_cov, jnp.eye(m - i)[0])\n",
    "        lam = jnp.sqrt(v[0])\n",
    "        L = L.at[i:, i].set(v / lam)\n",
    "    return L\n",
    "\n",
    "\n",
    "def cholesky_components(\n",
    "    samples: Float[Array, \"N n m\"],  # samples of $X_1, \\ldots, X_n$\n",
    "    weights: Float[Array, \"N\"],  # $w$, need not be normalized\n",
    ") -> Tuple[\n",
    "    Float[Array, \"n m m\"], Float[Array, \"n m m\"]\n",
    "]:  # block diagonal and off-diagonal components\n",
    "    \"\"\"calculate all components of the Cholesky factor of $P$\"\"\"\n",
    "    current = samples[:, :-1]\n",
    "    next = samples[:, 1:]\n",
    "\n",
    "    diag, off_diag = jnp.split(\n",
    "        vmap(ce_cholesky_block, (1, 1, None))(current, next, weights), 2, 1\n",
    "    )\n",
    "    last_diag = ce_cholesky_last(samples[:, -1], weights)\n",
    "    full_diag = jnp.concatenate([diag, last_diag[None, :]], axis=0)\n",
    "\n",
    "    return full_diag, off_diag"
   ]
  },
  {
   "cell_type": "markdown",
   "metadata": {},
   "source": [
    "## running example: AR(1) process\n",
    "\n",
    "we'll use the simples non-degenerate Gaussian Markov process as an example, an AR(1) process. We start this process in its stationary distribution."
   ]
  },
  {
   "cell_type": "code",
   "execution_count": null,
   "metadata": {},
   "outputs": [],
   "source": [
    "a = 1/2\n",
    "s2 = 1.\n",
    "\n",
    "n = 10\n",
    "# stationary\n",
    "tau2 = s2 / (1 - a**2)\n",
    "\n",
    "cov = jnp.array([[\n",
    "    tau2 * a**(jnp.abs(i - j))\n",
    "    for j in range(n)\n",
    "] for i in range(n)])"
   ]
  },
  {
   "cell_type": "code",
   "execution_count": null,
   "metadata": {},
   "outputs": [
    {
     "data": {
      "image/png": "[encoded data removed]",
      "text/plain": [
       "<Figure size 640x480 with 2 Axes>"
      ]
     },
     "metadata": {},
     "output_type": "display_data"
    }
   ],
   "source": [
    "N = 1000\n",
    "samples = MVN(jnp.zeros(n), cov).sample((1000,), seed=jrn.PRNGKey(5324523423))[...,None]\n",
    "weights = jnp.ones(N)\n",
    "samples.shape\n",
    "\n",
    "diag, off_diag = cholesky_components(samples, weights)\n",
    "P = jnp.linalg.inv(cov)\n",
    "L = jnp.diag(jnp.concatenate(diag)[:,0]) + jnp.diag(jnp.concatenate(off_diag)[:,0], -1)\n",
    "plt.title(\"$L$ has lower bi-diagonal structure\")\n",
    "plt.imshow(L)\n",
    "plt.colorbar()\n",
    "plt.show()"
   ]
  },
  {
   "cell_type": "code",
   "execution_count": null,
   "metadata": {},
   "outputs": [
    {
     "data": {
      "image/png": "[encoded data removed]",
      "text/plain": [
       "<Figure size 640x480 with 2 Axes>"
      ]
     },
     "metadata": {},
     "output_type": "display_data"
    }
   ],
   "source": [
    "plt.title(\"difference between $L L^T$ and $P$\")\n",
    "plt.imshow(L @ L.T - P)\n",
    "plt.colorbar()\n",
    "plt.show()"
   ]
  },
  {
   "cell_type": "code",
   "execution_count": null,
   "metadata": {},
   "outputs": [],
   "source": [
    "#| hide\n",
    "fct.test_close(L @ L.T, P, .5)"
   ]
  },
  {
   "cell_type": "markdown",
   "metadata": {},
   "source": [
    "## simulation using $L$\n",
    "\n",
    "As $LL^T = P = \\Sigma^{-1}$, $L^{-T}L^{-1} = \\Sigma$ so to simulate $X \\sim \\mathcal N(0, \\Sigma)$ it suffices to simulate a standard normal $Z \\sim \\mathcal N(0, I)$ and solve $L^T X = Z$. Luckily, $L^T$ is an upper block diagonal matrix which solving this system of equations straightforward. To this end we partition $X = (X_1^{T}, \\dots, X_n^{T})^{T}$ and $Z = (Z_1^{T}, \\dots, Z_n^{T})^{T}$ and $L = \\text{block-diag} \\left( L_{1,1}, \\dots, L_{n,n} \\right) + \\text{lower-block-off-diag} \\left( L_{2,1}, \\dots, L_{n, n-1} \\right)$. Starting with $X_n$, we solve\n",
    "$$\n",
    "L_{n,n}^T X_{n} = Z_{n}\n",
    "$$\n",
    "by using the fact that $L_{n,n}^T$ is an upper triangular matrix. We then iteratively solve for $i = n-1, \\dots, 1$\n",
    "$$\n",
    "L_{i,i}^TX_{i} + L_{i+1,i}^T X_{i + 1} = Z_{i},\n",
    "$$\n",
    "so\n",
    "$$\n",
    "X_{i} = L_{i,i}^{-T} \\left( Z_{i} - L_{i +1, i}^{T} X_{i + 1} \\right).\n",
    "$$"
   ]
  },
  {
   "cell_type": "code",
   "execution_count": null,
   "metadata": {},
   "outputs": [],
   "source": [
    "vsolve_t = vmap(jsp.linalg.solve_triangular, (None, 0))\n",
    "vmm = vmap(jnp.matmul, (None, 0))\n",
    "\n",
    "def simulate(\n",
    "        full_diag: Float[Array, \"n m m\"], # block diagonals of $L$\n",
    "        off_diag: Float[Array, \"n-1 m m\"], # off-diagonals of $L$\n",
    "        key: PRNGKeyArray, # random key\n",
    "        N: int # number of samples\n",
    "        ) -> Float[Array, \"N n m\"]: # $N$ samples of $X_1, \\ldots, X_n$\n",
    "    \"\"\"Simulate from Markov process with Cholesky factor $L$.\"\"\"\n",
    "    n, m, _ = full_diag.shape\n",
    "\n",
    "    key, subkey = jrn.split(key)\n",
    "    x = jnp.zeros((N, n, m))\n",
    "    z_n = jrn.normal(subkey, shape=(N, m))\n",
    "    x_n = vsolve_t(full_diag[-1].T, z_n)\n",
    "\n",
    "    x = x.at[:, -1].set(x_n)\n",
    "\n",
    "    for i in range(n - 1):\n",
    "        key, subkey = jrn.split(key)\n",
    "        z = jrn.normal(subkey, shape=(N, m))\n",
    "        new_x = vsolve_t(\n",
    "            full_diag[n - i - 2].T,\n",
    "            z - vmm(off_diag[n - i - 2], x[:, n - i - 1])\n",
    "        )\n",
    "        x = x.at[:, n - i - 2].set(new_x)\n",
    "    return x"
   ]
  },
  {
   "cell_type": "markdown",
   "metadata": {},
   "source": [
    "## Evaluating the density\n",
    "\n",
    "Similar to simulation, we can evaluate the log-density \n",
    "$$\n",
    "\\log p(x) = - \\frac{n\\cdot m}{2}  \\log(2  \\pi) - \\frac{1}{2} \\log \\det \\Sigma - \\frac 1 2 (x - \\mu)^{T} \\Sigma^{-1}(x-\\mu)\n",
    "$$\n",
    "efficiently using $L$.\n",
    "\n",
    "For the $\\log\\det \\Sigma$-term notice that $\\Sigma = L^{-T}L^{-1}$ results in $2 \\log\\det L = 2 \\sum_{i = 1}^n \\log\\det L_{i,i}$. These determinants are simply the product of the diagonal entries, as $L$ is a lower triangular matrix.\n",
    "\n",
    "The quadratic part can be rewritten as $\\lVert L^T(x-\\mu) \\rVert^{2}$ and, using the structure of $L^{T}$, this consists of terms of the form $L^T_{i,i} (x_i - \\mu_i) + L^T_{i+1, i}(x_{i + 1} - \\mu_{i + 1})$."
   ]
  },
  {
   "cell_type": "code",
   "execution_count": null,
   "metadata": {},
   "outputs": [],
   "source": [
    "#| export\n",
    "def log_prob(\n",
    "    x: Float[Array, \"n+1 m\"], # the location at which to evaluate the likelihood\n",
    "    full_diag: Float[Array, \"n+1 m m\"],# block diagonals of $L$\n",
    "    off_diag: Float[Array, \"n m m\"], # off-diagonals of $L$\n",
    "    mean: Float[Array, \"n+1 m\"], # mean of the process\n",
    ") -> Float: # log-likelihood\n",
    "    np1, m = x.shape\n",
    "\n",
    "    # append zeros to have the same shape as full_diag\n",
    "    extended_off_diag = jnp.concatenate([off_diag, jnp.zeros((m, m))[None]], axis=0)\n",
    "    centered = x - mean\n",
    "\n",
    "    # L is triangular\n",
    "    logdet = 2 * jnp.sum(jnp.log(vmap(jnp.diag)(full_diag)))\n",
    "\n",
    "    # exploit sparsity of L\n",
    "    extended_centered = jnp.concatenate([centered, jnp.zeros((1, m))], axis=0)\n",
    "    Lt_x = (\n",
    "        full_diag.transpose((0, 2, 1)) @ extended_centered[:-1,:,None]\n",
    "        + extended_off_diag.transpose((0, 2, 1)) @ extended_centered[1:,:,None]\n",
    "    )[:,:,0]\n",
    "    l2_norm = jnp.sum(Lt_x ** 2)\n",
    "\n",
    "    return -np1 * m / 2 * jnp.log(2 * jnp.pi) - 1 / 2 * logdet - 1 / 2 * l2_norm"
   ]
  },
  {
   "cell_type": "code",
   "execution_count": null,
   "metadata": {},
   "outputs": [],
   "source": [
    "#| hide\n",
    "#log-det part\n",
    "actual = log_prob(jnp.zeros((10,1)), jnp.ones((10,1,1)), jnp.ones((9,1,1)), jnp.zeros((10,1)))\n",
    "expected = - 10/2 * jnp.log(2 * jnp.pi) \n",
    "fct.test_close(actual, expected)\n",
    "# l2 norm part\n",
    "actual = log_prob(jnp.ones((10,1)), jnp.ones((10,1,1)), jnp.ones((9,1,1)), jnp.zeros((10,1)))\n",
    "expected = - 10/2 * jnp.log(2 * jnp.pi) - 1/2 * (9 * 4 + 1)\n",
    "fct.test_close(actual, expected)"
   ]
  },
  {
   "cell_type": "code",
   "execution_count": null,
   "metadata": {},
   "outputs": [],
   "source": [
    "#| hide\n",
    "def kl_optimal_rev_time_markov_process(samples):\n",
    "    N, n, m = samples.shape\n",
    "    current = samples[:,:-1]\n",
    "    next = samples[:,1:]\n",
    "\n",
    "    diag, off_diag = jnp.split(\n",
    "        vmap(ce_cholesky_block, (1, 1))(current, next),\n",
    "        2, 1\n",
    "    )\n",
    "    last_diag = ce_cholesky_last(samples[:,-1])\n",
    "    full_diag = jnp.concatenate([diag, last_diag[None,:]], axis=0)\n",
    "\n",
    "    long_eye = jnp.tile(jnp.eye(m), (n,1,1))\n",
    "    innov_chol = jsp.linalg.solve_triangular(full_diag.transpose((0,2,1)), long_eye, lower=False)\n",
    "    reverse_transitions = - innov_chol[:-1] @ jnp.linalg.solve(off_diag.transpose((0,2,1)), long_eye[:-1])\n",
    "\n",
    "    return innov_chol, reverse_transitions\n"
   ]
  },
  {
   "cell_type": "markdown",
   "metadata": {},
   "source": [
    "## Example: AR(1) process with NB observations"
   ]
  },
  {
   "cell_type": "code",
   "execution_count": null,
   "metadata": {},
   "outputs": [
    {
     "data": {
      "text/plain": [
       "Array(53.07772878, dtype=float64)"
      ]
     },
     "execution_count": null,
     "metadata": {},
     "output_type": "execute_result"
    }
   ],
   "source": [
    "# model setup\n",
    "m, p, np1 = 1, 1, 1000\n",
    "A = jnp.broadcast_to(jnp.eye(m), (np1, m, m))\n",
    "B = jnp.broadcast_to(jnp.eye(m), (np1 + 1, p, m))\n",
    "\n",
    "s2= 0.01\n",
    "Sigma = jnp.broadcast_to(s2 * jnp.eye(m), (np1 + 1, m, m))\n",
    "x0 = jnp.ones(m)\n",
    "\n",
    "*_, dist, xi = nb_lcssm(x0, A, Sigma, B, 10.)\n",
    "\n",
    "# simulate from model\n",
    "key = jrn.PRNGKey(51)\n",
    "key, subkey = jrn.split(key)\n",
    "N = 1\n",
    "(x_true, ), (y,) = simulate_lcssm(x0, A, Sigma, B, dist, xi, N, subkey)\n",
    "\n",
    "# laplace approximation & importance sampling\n",
    "s_init = jnp.log(y + 1.)\n",
    "x_smooth, z, Omega = mode_estimation(y, x0, A, Sigma, B, dist, xi, s_init, 10)\n",
    "\n",
    "N = 1000\n",
    "key, subkey = jrn.split(key)\n",
    "samples, lw = lcssm_importance_sampling(y, x0, A, Sigma, B, dist, xi, z, Omega, N, subkey)\n",
    "\n",
    "weights = jnp.exp(lw - jnp.max(lw))\n",
    "ess_pct(lw)"
   ]
  },
  {
   "cell_type": "code",
   "execution_count": null,
   "metadata": {},
   "outputs": [],
   "source": [
    "diag, off_diag = cholesky_components(samples, weights)\n",
    "mean = jnp.sum(samples * weights[:,None,None], axis=0) /jnp.sum(weights)\n",
    "key, subkey = jrn.split(key)\n",
    "x = simulate(diag, off_diag, subkey, N) + mean"
   ]
  },
  {
   "cell_type": "markdown",
   "metadata": {},
   "source": [
    "## Importance Sampling\n",
    "\n",
    "For importance sampling with this model the log weights read \n",
    "$$\n",
    "\\log w(x) = \\log p(x|y) - \\log g(x) = \\log p(x,y) - \\log g(x) - \\log p(y),\n",
    "$$\n",
    "where we ignore the $\\log p(y)$ term to obtain autonormailsed importance sampling weights.\n"
   ]
  },
  {
   "cell_type": "code",
   "execution_count": null,
   "metadata": {},
   "outputs": [],
   "source": [
    "#| export\n",
    "def ce_log_weights(\n",
    "    x: Float[Array, \"n+1 m\"], # the sample\n",
    "    y: Float[Array, \"n+1 p\"], # the observations\n",
    "    full_diag: Float[Array, \"n+1 m m\"],# block diagonals of $L$\n",
    "    off_diag: Float[Array, \"n m m\"], # off-diagonals of $L$\n",
    "    mean: Float[Array, \"n+1 m\"], # mean of the process\n",
    "    x0: Float[Array, \"m\"], # initial state\n",
    "    A: Float[Array, \"n m m\"], # transition matrix\n",
    "    Sigma: Float[Array, \"n+1 m m\"], # covariance matrix\n",
    "    B: Float[Array, \"n+1 p m\"], # observation matrix\n",
    "    dist: tfd.Distribution, # distribution of the initial state\n",
    "    xi: Float[Array, \"n+1 m\"], # initial state\n",
    ") -> Float: # log-weights\n",
    "    log_p = log_prob_joint(x, y, x0, A, Sigma, B, dist, xi)\n",
    "    log_g = log_prob(x, full_diag, off_diag, mean)\n",
    "\n",
    "    return log_p - log_g"
   ]
  },
  {
   "cell_type": "code",
   "execution_count": null,
   "metadata": {},
   "outputs": [
    {
     "data": {
      "text/plain": [
       "Array(0.02111013, dtype=float64)"
      ]
     },
     "execution_count": null,
     "metadata": {},
     "output_type": "execute_result"
    }
   ],
   "source": [
    "N = 10000\n",
    "key, subkey = jrn.split(key)\n",
    "samples, log_weights = lcssm_importance_sampling(y, x0, A, Sigma, B, dist, xi, z, Omega, N, subkey)\n",
    "weights = jnp.exp(log_weights - jnp.max(log_weights))\n",
    "\n",
    "\n",
    "for i in range(10):\n",
    "    mean = jnp.sum(samples * weights[:,None,None], axis=0) / jnp.sum(weights)\n",
    "    diag, off_diag = cholesky_components((samples - mean), weights)\n",
    "\n",
    "    samples = simulate(diag, off_diag, subkey, N) + mean\n",
    "\n",
    "    log_weights = vmap(ce_log_weights, (0, *(None,)*10))(samples, y, diag, off_diag, mean, x0, A, Sigma, B, dist, xi)\n",
    "    weights = jnp.exp(log_weights - jnp.max(log_weights))\n",
    "\n",
    "ess_pct(log_weights)"
   ]
  },
  {
   "cell_type": "code",
   "execution_count": null,
   "metadata": {},
   "outputs": [],
   "source": [
    "#| hide\n",
    "import nbdev; nbdev.nbdev_export()"
   ]
  }
 ],
 "metadata": {
  "kernelspec": {
   "display_name": "python3",
   "language": "python",
   "name": "python3"
  }
 },
 "nbformat": 4,
 "nbformat_minor": 2
}
