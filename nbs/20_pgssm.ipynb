{
 "cells": [
  {
   "cell_type": "code",
   "execution_count": null,
   "metadata": {},
   "outputs": [],
   "source": [
    "# | default_exp pgssm\n",
    "import jax\n",
    "\n",
    "jax.config.update(\"jax_enable_x64\", True)"
   ]
  },
  {
   "attachments": {},
   "cell_type": "markdown",
   "metadata": {},
   "source": [
    "# Partially Gaussian State Space Models with linear Signal\n",
    "> See also the corresponding [section in my thesis](https://stefanheyder.github.io/dissertation/thesis.pdf#nameddest=section.3.3)"
   ]
  },
  {
   "cell_type": "code",
   "execution_count": null,
   "metadata": {},
   "outputs": [],
   "source": [
    "# | code-fold: true\n",
    "import matplotlib.pyplot as plt\n",
    "import jax.numpy as jnp\n",
    "import jax.random as jrn"
   ]
  },
  {
   "attachments": {},
   "cell_type": "markdown",
   "metadata": {},
   "source": [
    "A partially gaussian state space model with linear signal is a state space model where the distribution of states $X_t$ is gaussian, but the (conditional) distribution of observations $Y_t$ is non-gaussian, but depends only on signals $S_t = B_tX_t$ for a matrix $B_t$.\n",
    "\n",
    "That is we consider \n",
    "\n",
    "$$\n",
    "\\begin{align*}\n",
    "    X_0 &\\sim \\mathcal N(u_{0}, \\Sigma_0)\\\\\n",
    "    X_{t + 1} &= u_{t + 1} + A_t X_t + \\varepsilon_{t + 1}\\\\\n",
    "    \\varepsilon_{t} &\\sim \\mathcal N(0, \\Sigma_t)\\\\\n",
    "    Y_t | X_t &\\sim Y_t | S_t \\sim p(y_t|s_t).\n",
    "\\end{align*}\n",
    "$$\n",
    "\n",
    "\n",
    "::: {.callout-note}\n",
    "### Implementation Detail\n",
    "> dependency on parameters\n",
    "\n",
    "To facilitate faster evaluation we assume that the conditional density of observations $p(y_{t}|s_{t})$ depends on parameters $\\xi \\in \\mathbb R^{(n + 1)\\times p \\times l}$, i.e. for every observation there are exactly $l$ parameters to consider. The implementation will always assume that we can call \n",
    "```python\n",
    "dist(s, xi)\n",
    "```\n",
    "where `dist` is a `tensorflow_probability.distributions.distribution` object that for broadcasting in both $s$ and $\\xi$.\n",
    ":::"
   ]
  },
  {
   "attachments": {},
   "cell_type": "markdown",
   "metadata": {},
   "source": [
    "## Simulation\n",
    "\n",
    "As the states are gaussian, we can first simulate the states $X$ and then, conditional on them, calculate $S$ and $\\xi$."
   ]
  },
  {
   "cell_type": "code",
   "execution_count": null,
   "metadata": {},
   "outputs": [],
   "source": [
    "# | export\n",
    "import jax.numpy as jnp\n",
    "import jax.random as jrn\n",
    "from jax import lax, vmap\n",
    "from jaxtyping import Array, Float, PRNGKeyArray\n",
    "from tensorflow_probability.substrates.jax.distributions import (\n",
    "    NegativeBinomial as NBinom,\n",
    ")\n",
    "from tensorflow_probability.substrates.jax.distributions import Poisson\n",
    "\n",
    "from isssm.glssm import log_probs_x, simulate_states\n",
    "from isssm.typing import PGSSM, GLSSMObservationModel, GLSSMState\n",
    "from isssm.util import mm_time, mm_time_sim"
   ]
  },
  {
   "cell_type": "code",
   "execution_count": null,
   "metadata": {},
   "outputs": [],
   "source": [
    "# | export\n",
    "def simulate_pgssm(\n",
    "    pgssm: PGSSM,\n",
    "    N: int,  # number of samples\n",
    "    key: PRNGKeyArray,  # random key\n",
    ") -> tuple[\n",
    "    Float[Array, \"N n+1 m\"], Float[Array, \"N n+1 p\"]\n",
    "]:  # simulated states and observations\n",
    "    u, A, D, Sigma0, Sigma, v, B, dist, xi = pgssm\n",
    "    key, subkey = jrn.split(key)\n",
    "    X = simulate_states(GLSSMState(u, A, D, Sigma0, Sigma), N, subkey)\n",
    "    S = v + mm_time_sim(B, X)\n",
    "\n",
    "    key, subkey = jrn.split(key)\n",
    "    Y = dist(S, xi).sample(seed=subkey)\n",
    "\n",
    "    return X, Y"
   ]
  },
  {
   "attachments": {},
   "cell_type": "markdown",
   "metadata": {},
   "source": [
    "## Running example: Negative Binomial model\n",
    "\n",
    "As an example consider a variant of the [multivariate AR(1) process model](models/00_gaussian_models.ipynb) with [a seasonal component](models/10_stsm.ipynb) where observations now follow a conditional negative binomial distribution, i.e. $$Y^i_t| X_{t} \\sim \\text{NegBinom}(\\exp((BX_t)^{i}), r),$$ independent for $i = 1, 2$. \n",
    "\n",
    "The states $X_t$ consist of two components: \n",
    "\n",
    "- a trend- and velocity component as in a [structural time series model](models/10_stsm.ipynb), and\n",
    "- a seasonal component. \n",
    "\n",
    "For the velocity component, we will model a stationary distribution with a small stationary variance.\n",
    "Stationarity allows us to ensure that sampling from the model will, usually, not lead to numerical issues. Due to the log-link for negative binomial observations we want states to stay within, say, $(-2, 2)$ most of the time, otherwise, we will see many $0$ observations (below -2), or may have problems sampling when $\\mathbf E (Y^{i}_{t} | X_{t}) = \\exp (BX_{t}^{i})$ becomes large. \n",
    "\n",
    "This model has the advantage that we can check whether our implementation can handle multiple issues:\n",
    "\n",
    "- the states have degenerate distribution (due to the seasonal component),\n",
    "- the observations are multivariate,\n",
    "- the observations are integer-valued and\n",
    "- the observations are non-Gaussian.\n",
    "\n",
    "We set some sensible defaults and will reuse this model throughout this documentation."
   ]
  },
  {
   "cell_type": "code",
   "execution_count": null,
   "metadata": {},
   "outputs": [],
   "source": [
    "# | export\n",
    "\n",
    "from isssm.models.stsm import stsm\n",
    "from isssm.models.pgssm import nb_pgssm\n",
    "import jax.scipy.linalg as jsla\n",
    "\n",
    "\n",
    "def nb_pgssm_running_example(\n",
    "    x0_trend: Float[Array, \"m\"] = jnp.zeros(2),\n",
    "    r: Float = 20.0,\n",
    "    s2_trend: Float = 0.01,\n",
    "    s2_speed: Float = 0.1,\n",
    "    alpha: Float = 0.1,\n",
    "    omega2: Float = 0.01,\n",
    "    n: int = 100,\n",
    "    x0_seasonal: Float[Array, \"s\"] = jnp.zeros(4),\n",
    "    s2_seasonal: Float = 0.1,\n",
    "    Sigma0_seasonal: Float[Array, \"s s\"] = 0.1 * jnp.eye(4),\n",
    "    s_order: int = 5,\n",
    ") -> PGSSM:  # the running example for this package\n",
    "    \"\"\"a structural time series model with NBinom observations\"\"\"\n",
    "    Sigma0 = jsla.block_diag(0.01 * jnp.eye(2), Sigma0_seasonal)\n",
    "    x0 = jnp.concatenate((x0_trend, x0_seasonal))\n",
    "\n",
    "    model = nb_pgssm(\n",
    "        stsm(\n",
    "            x0,\n",
    "            s2_trend,\n",
    "            s2_speed,\n",
    "            s2_seasonal,\n",
    "            n,\n",
    "            Sigma0,\n",
    "            omega2,\n",
    "            s_order,\n",
    "            alpha,\n",
    "        ),\n",
    "        r,\n",
    "    )\n",
    "    return model"
   ]
  },
  {
   "cell_type": "code",
   "execution_count": null,
   "metadata": {},
   "outputs": [],
   "source": [
    "key = jrn.PRNGKey(518)\n",
    "model = nb_pgssm_running_example()\n",
    "N = 1\n",
    "key, subkey = jrn.split(key)\n",
    "(X,), (Y,) = simulate_pgssm(model, N, subkey)\n",
    "fig, (ax1, ax2, ax3, ax4) = plt.subplots(1, 4, figsize=(20, 5))\n",
    "fig.tight_layout()\n",
    "\n",
    "ax1.set_title(\"trend\")\n",
    "ax2.set_title(\"seasonal component\")\n",
    "ax3.set_title(\"signals\")\n",
    "ax4.set_title(\"observations\")\n",
    "\n",
    "ax1.plot(X[:, 0])\n",
    "ax2.plot(X[:, 2])\n",
    "ax3.plot(vmap(jnp.matmul, (0, 0))(model.B, X))\n",
    "ax4.plot(Y)\n",
    "\n",
    "plt.show()"
   ]
  },
  {
   "cell_type": "markdown",
   "metadata": {},
   "source": [
    "Notice that the observations are now integer valued."
   ]
  },
  {
   "cell_type": "markdown",
   "metadata": {},
   "source": [
    "## joint density\n",
    "\n",
    "To evaluate the joint density we use the same approach as described in [00_glssm#Joint Density], replacing the observation density with the PGSSM one."
   ]
  },
  {
   "cell_type": "code",
   "execution_count": null,
   "metadata": {},
   "outputs": [],
   "source": [
    "# | export\n",
    "from isssm.typing import to_states\n",
    "\n",
    "\n",
    "def log_probs_y(\n",
    "    x: Float[Array, \"n+1 m\"],  # states\n",
    "    y: Float[Array, \"n+1 p\"],  # observations\n",
    "    v: Float[Array, \"n+1 p\"],  # signal biases\n",
    "    B: Float[Array, \"n+1 p m\"],  # signal matrices\n",
    "    dist,  # observation distribution\n",
    "    xi,  # observation parameters\n",
    "):\n",
    "    s = v + (B @ x[:, :, None])[:, :, 0]\n",
    "    return dist(s, xi).log_prob(y).sum(axis=1)\n",
    "\n",
    "\n",
    "def log_prob(\n",
    "    x: Float[Array, \"n+1 m\"],  # states\n",
    "    y: Float[Array, \"n+1 p\"],  # observations\n",
    "    model: PGSSM,\n",
    "):\n",
    "    u, A, D, Sigma0, Sigma, v, B, dist, xi = model\n",
    "    px = log_probs_x(x, to_states(model)).sum()\n",
    "    py = log_probs_y(x, y, v, B, dist, xi).sum()\n",
    "    return px + py"
   ]
  },
  {
   "cell_type": "code",
   "execution_count": null,
   "metadata": {},
   "outputs": [],
   "source": [
    "log_prob(X, Y, model)"
   ]
  },
  {
   "cell_type": "code",
   "execution_count": null,
   "metadata": {},
   "outputs": [],
   "source": [
    "# | hide\n",
    "import nbdev\n",
    "\n",
    "nbdev.nbdev_export()"
   ]
  }
 ],
 "metadata": {
  "kernelspec": {
   "display_name": "python3",
   "language": "python",
   "name": "python3"
  }
 },
 "nbformat": 4,
 "nbformat_minor": 2
}
