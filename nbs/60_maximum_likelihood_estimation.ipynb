{
 "cells": [
  {
   "cell_type": "code",
   "execution_count": 1,
   "metadata": {},
   "outputs": [],
   "source": [
    "#| default_exp estimation"
   ]
  },
  {
   "attachments": {},
   "cell_type": "markdown",
   "metadata": {},
   "source": [
    "# Maximum Likelihood estimation"
   ]
  },
  {
   "cell_type": "code",
   "execution_count": 36,
   "metadata": {},
   "outputs": [],
   "source": [
    "#| export\n",
    "import jax.numpy as jnp\n",
    "import jax.random as jrn\n",
    "from jax import vmap\n",
    "from jaxtyping import Float, Array, PRNGKeyArray\n",
    "from isssm.kalman import kalman\n",
    "from jax import jit\n",
    "from scipy.optimize import minimize as minimize_scipy\n",
    "from isssm.mode_estimation import mode_estimation as LA\n",
    "from isssm.modified_efficient_importance_sampling import modified_efficient_importance_sampling as MEIS\n",
    "from isssm.importance_sampling import normalize_weights\n",
    "from jax import grad\n",
    "from jaxopt import BFGS"
   ]
  },
  {
   "cell_type": "code",
   "execution_count": 37,
   "metadata": {},
   "outputs": [],
   "source": [
    "#| hide\n",
    "import jax\n",
    "from isssm.glssm_models import lcm\n",
    "from isssm.glssm import simulate_glssm\n",
    "import tensorflow_probability.substrates.jax.distributions as tfd\n",
    "import fastcore.test as fct\n",
    "from isssm.lcssm import nb_lcssm, simulate_lcssm"
   ]
  },
  {
   "cell_type": "code",
   "execution_count": 38,
   "metadata": {},
   "outputs": [],
   "source": [
    "#| hide\n",
    "config = jax.config\n",
    "\n",
    "config.update(\"jax_enable_x64\", True)"
   ]
  },
  {
   "attachments": {},
   "cell_type": "markdown",
   "metadata": {},
   "source": [
    "## Gaussian linear models\n",
    "\n",
    "For Gaussian linear state space models we can evaluate the likelihood analytically with a single pass of the Kalman filter.\n",
    "Based on the predictions $\\hat Y_{t| t - 1}$ and associated covariance matrices $\\Psi_{t + 1 | t}$ for $t = 0, \\dots n$ produced by the Kalman filter we can derive the gaussian negative log likelihood which is given by the gaussian distribution with that mean and covariance matrix and observation $Y_t$. "
   ]
  },
  {
   "cell_type": "code",
   "execution_count": 5,
   "metadata": {},
   "outputs": [],
   "source": [
    "# | export\n",
    "\n",
    "vmm = vmap(jnp.matmul, (0, 0))\n",
    "\n",
    "\n",
    "def gnll(\n",
    "    y: Float[Array, \"n+1 p\"],  # observations $y_t$\n",
    "    x_pred: Float[Array, \"n+1 m\"],  # predicted states $\\hat X_{t+1\\bar t}$\n",
    "    Xi_pred: Float[Array, \"n+1 m m\"],  # predicted state covariances $\\Xi_{t+1\\bar t}$\n",
    "    B: Float[Array, \"n+1 p m\"],  # state observation matrices $B_{t}$\n",
    "    Omega: Float[Array, \"n+1 p p\"],  # observation covariances $\\Omega_{t}$\n",
    ") -> Float:  # gaussian negative log-likelihood\n",
    "    \"\"\"Gaussian negative log-likelihood\"\"\"\n",
    "    y_pred = vmm(B, x_pred)\n",
    "    Psi_pred = vmm(vmm(B, Xi_pred), jnp.transpose(B, (0, 2, 1))) + Omega\n",
    "\n",
    "    return -tfd.MultivariateNormalFullCovariance(y_pred, Psi_pred).log_prob(y).sum()"
   ]
  },
  {
   "cell_type": "code",
   "execution_count": 6,
   "metadata": {},
   "outputs": [],
   "source": [
    "#| hide\n",
    "\n",
    "x0, A, B, Sigma, Omega = lcm(1, 0., 1., 1., 1.)\n",
    "_, (y,) = simulate_glssm(x0, A, B, Sigma, Omega, 1, jrn.PRNGKey(34234))\n",
    "\n",
    "x_filt, Xi_filt, x_pred, Xi_pred = kalman(y, x0, Sigma, Omega, A, B)\n",
    "nll = gnll(y, x_pred, Xi_pred, B, Omega)\n",
    "\n",
    "\n",
    "EY = jnp.zeros((2,))\n",
    "CovY = jnp.array([[2., 1.], [1., 3.]])\n",
    "\n",
    "fct.test_eq(nll, -tfd.MultivariateNormalFullCovariance(EY, CovY).log_prob(y.reshape(-1)))"
   ]
  },
  {
   "attachments": {},
   "cell_type": "markdown",
   "metadata": {},
   "source": [
    "## MLE in GLSSMs\n",
    "\n",
    "For a parametrized GLSSM, that is a model that depends on parameters $\\theta$, we can use numerical optimization to find the maximum likelihood estimatior.\n",
    "\n",
    "::: {.callout-caution}\n",
    "With these methods, the user has to take care that they provide a parametrization that is unconstrained, i.e. using $\\log$ transformations for positive parameters.\n",
    ":::\n",
    "\n",
    "::: {.callout-note}\n",
    "## Implementation Detail\n",
    "\n",
    "For low dimensional state space models obtaining the gradient of the negative log likelihood may be feasible by automatic differentiation, in this case use the `mle_glssm_ad` method. Otherwise the derivative free Nelder-Mead method in `mle_glssm` may be favorable.\n",
    ":::"
   ]
  },
  {
   "cell_type": "code",
   "execution_count": 7,
   "metadata": {},
   "outputs": [],
   "source": [
    "#| export\n",
    "from scipy.optimize import minimize as minimize_scipy\n",
    "from jax.scipy.optimize import minimize as minimize_jax\n",
    "from scipy.optimize import OptimizeResult\n",
    "from jax.scipy.optimize import OptimizeResults\n",
    "\n",
    "def mle_glssm(\n",
    "    y: Float[Array, \"n+1 p\"],  # observations $y_t$\n",
    "    model,  # parameterize GLSSM\n",
    "    theta0: Float[Array, \"k\"],  # initial parameter guess\n",
    "    aux,  # auxiliary data for the model\n",
    "    options=None, # options for the optimizer\n",
    ") -> OptimizeResult:  # result of MLE optimization\n",
    "    \"\"\"Maximum likelihood estimation for GLSSM\"\"\"\n",
    "    def f(theta: Float[Array, \"k\"]) -> Float:\n",
    "        x0, A, B, Sigma, Omega = model(theta, aux)\n",
    "        _, _, x_pred, Xi_pred = kalman(y, x0, Sigma, Omega, A, B)\n",
    "        return gnll(y, x_pred, Xi_pred, B, Omega)\n",
    "\n",
    "    return minimize_scipy(f, theta0, method=\"Nelder-Mead\", options=options)\n",
    "\n",
    "def mle_glssm_ad(\n",
    "    y: Float[Array, \"n+1 p\"],  # observations $y_t$\n",
    "    model,  # parameterize GLSSM\n",
    "    theta0: Float[Array, \"k\"],  # initial parameter guess\n",
    "    aux,  # auxiliary data for the model\n",
    "    options=None, # options for the optimizer\n",
    ") -> OptimizeResults:  # result of MLE optimization\n",
    "    \"\"\"Maximum likelihood estimation for GLSSM using automatic differentiation\"\"\"\n",
    "    \n",
    "    def f(theta: Float[Array, \"k\"]) -> Float:\n",
    "        x0, A, B, Sigma, Omega = model(theta, aux)\n",
    "        _, _, x_pred, Xi_pred = kalman(y, x0, Sigma, Omega, A, B)\n",
    "        return gnll(y, x_pred, Xi_pred, B, Omega)\n",
    "\n",
    "    return minimize_jax(f, theta0, method=\"BFGS\", options=options)"
   ]
  },
  {
   "cell_type": "code",
   "execution_count": 8,
   "metadata": {},
   "outputs": [],
   "source": [
    "def parameterized_lcm(theta, aux):\n",
    "    log_s2_eps, log_s2_eta = theta\n",
    "    n, x0, s2_x0 = aux\n",
    "\n",
    "    return lcm(n, x0, s2_x0, jnp.exp(log_s2_eps), jnp.exp(log_s2_eta))\n",
    "    \n",
    "theta = jnp.log(jnp.array([2., 3.]))\n",
    "aux = (100, 0., 1.)\n",
    "x0, A, B, Sigma, Omega = parameterized_lcm(theta, aux)\n",
    "_, (y,) = simulate_glssm(x0, A, B, Sigma, Omega, 1, jrn.PRNGKey(15435324))\n",
    "\n",
    "# start far away from true parameter\n",
    "result_nelder_mead = mle_glssm(y, parameterized_lcm, 2 * jnp.ones(2), aux, options={\"return_all\": True})\n",
    "result_ad = mle_glssm_ad(y, parameterized_lcm, 2 * jnp.ones(2), aux)"
   ]
  },
  {
   "cell_type": "code",
   "execution_count": 9,
   "metadata": {},
   "outputs": [],
   "source": [
    "#| hide\n",
    "#%timeit mle_glssm(y, parameterized_lcm, 2 * jnp.ones(2), aux)\n",
    "#%timeit mle_glssm_ad(y, parameterized_lcm, 2 * jnp.ones(2), aux)"
   ]
  },
  {
   "cell_type": "code",
   "execution_count": 10,
   "metadata": {},
   "outputs": [],
   "source": [
    "import matplotlib.pyplot as plt"
   ]
  },
  {
   "cell_type": "code",
   "execution_count": 11,
   "metadata": {},
   "outputs": [
    {
     "data": {
      "image/png": "[encoded data removed]",
      "text/plain": [
       "<Figure size 640x480 with 1 Axes>"
      ]
     },
     "metadata": {},
     "output_type": "display_data"
    }
   ],
   "source": [
    "theta_nm = jnp.array(result_nelder_mead.allvecs)\n",
    "plt.plot(jnp.exp(theta_nm[:,0]), jnp.exp(theta_nm[:,1]), alpha=.2)\n",
    "plt.scatter(jnp.exp(theta_nm[:,0]), jnp.exp(theta_nm[:,1]), alpha=.2)\n",
    "plt.scatter(*jnp.exp(result_ad.x), c=\"g\", marker=\"x\", label=\"found\", s=100)\n",
    "plt.scatter(*jnp.exp(theta), c=\"r\", s=100, marker=\"x\", label=\"true\")\n",
    "plt.legend()\n",
    "plt.xlabel(\"$\\\\sigma^2_\\\\varepsilon$\")\n",
    "plt.ylabel(\"$\\\\sigma^2_\\\\eta$\")\n",
    "plt.show()"
   ]
  },
  {
   "attachments": {},
   "cell_type": "markdown",
   "metadata": {},
   "source": [
    "## Asymptotic behavior of MLE\n",
    "\n",
    "::: {.callout-note}\n",
    "# TODO\n",
    "Write / Implement\n",
    ":::"
   ]
  },
  {
   "attachments": {},
   "cell_type": "markdown",
   "metadata": {},
   "source": [
    "## Inference for Log-Concave State Space Models\n",
    "\n",
    "For non-gaussian state space models we cannot evaluate the likelihood analytically but resort to simulation methods, more specifically [importance sampling](40_importance_sampling.ipynb). \n",
    "\n",
    "Importance Sampling is performed using a surrogate gaussian model that shares the state density $g(x) = p(x)$ and is parameterized by synthetic observations $z$ and their covariance matrices $\\Omega$. In this surrogate model the likeilhood $\\ell_g = g(z)$ and posterior distribution $g(x|z)$ are tractable and we can [simulate from the posterior](10_kalman_filter_smoother#Sampling_from_the_smoothing_distribution).\n",
    "\n",
    "Having obtained $N$ independent samples $X^i, i= 1, \\dots, N$ from this surrogate posterior we can evaluate the likelihood $\\ell$ by Monte-Carlo integration:\n",
    "\n",
    "$$\n",
    "\\begin{align*}\n",
    "p(y) &= \\int p(x, y) \\,\\mathrm dx \\\\\n",
    "    &=\\int \\frac{p(x,y)}{g(x|z)} g(x|z) \\,\\mathrm dx \\\\\n",
    "    &= g(z) \\int \\frac{p(y|x)}{g(z|x)} g(x|z)\\,\\mathrm dx \\\\\n",
    "    &\\approx g(z) \\frac 1 N \\sum_{i =1}^N w(X^i) \n",
    "\\end{align*}\n",
    "$$\n",
    "\n",
    "where $w(X^i) = \\frac{p\\left(y|X^i\\right)}{g\\left(z|X^i\\right)}$ are the unnormalized importance sampling weights. \n",
    "\n",
    "In total we can approximate the negative log-likelihood by\n",
    "\n",
    "$$\n",
    "\\ell = - \\log p(y) \\approx \\ell_g - \\log \\left(\\sum_{i=1}^N w(X^i) \\right) + \\log N.\n",
    "$$\n",
    "\n",
    "\n",
    "::: {.callout-note}\n",
    "# TODO\n",
    "Use differentiation only weights for gradient\n",
    "::: "
   ]
  },
  {
   "cell_type": "code",
   "execution_count": 12,
   "metadata": {},
   "outputs": [],
   "source": [
    "# |export\n",
    "from jax.scipy.special import logsumexp\n",
    "from isssm.importance_sampling import lcssm_importance_sampling\n",
    "from isssm.kalman import kalman\n",
    "\n",
    "\n",
    "def _lcnll(\n",
    "    gnll: Float,  # surrogate gaussian negative log-likelihood\n",
    "    unnormalized_log_weights: Float[\n",
    "        Array, \"N\"\n",
    "    ],  # unnormalized log-weights $\\log w(X^i)$\n",
    ") -> Float:  # the approximate negative log-likelihood\n",
    "    \"\"\"Internal Log-Concave Negative Log-Likelihood\"\"\"\n",
    "    (N,) = unnormalized_log_weights.shape\n",
    "    return gnll - logsumexp(unnormalized_log_weights) + jnp.log(N)\n",
    "\n",
    "\n",
    "def lcnll(\n",
    "    y: Float[Array, \"n+1 p\"],  # observations\n",
    "    x0: Float[Array, \"m\"],  # initial state\n",
    "    A: Float[Array, \"n m m\"],  # state transition matrices\n",
    "    Sigma: Float[Array, \"n+1 m m\"],  # innovation covariance matrices\n",
    "    B: Float[Array, \"n+1 p m\"],  # observation matrices\n",
    "    xi: Float[Array, \"n+1 p\"],  # observation parameters\n",
    "    dist,  # distribution of observations\n",
    "    z: Float[Array, \"n+1 p\"],  # synthetic observations\n",
    "    Omega: Float[Array, \"n+1 p p\"],  # covariance of synthetic observations\n",
    "    N: int,  # number of samples\n",
    "    key: PRNGKeyArray,  # random key\n",
    ") -> Float:  # the approximate negative log-likelihood\n",
    "    \"\"\"Log-Concave Negative Log-Likelihood\"\"\"\n",
    "\n",
    "    key, subkey = jrn.split(key)\n",
    "\n",
    "    _, log_weights = lcssm_importance_sampling(\n",
    "        y, x0, A, Sigma, B, xi, dist, z, Omega, N, subkey\n",
    "    )\n",
    "\n",
    "    _, _, x_pred, Xi_pred = kalman(z, x0, Sigma, Omega, A, B)\n",
    "\n",
    "    return _lcnll(gnll(z, x_pred, Xi_pred, B, Omega), log_weights)"
   ]
  },
  {
   "cell_type": "code",
   "execution_count": 13,
   "metadata": {},
   "outputs": [],
   "source": [
    "#| hide\n",
    "fct.test_close(_lcnll(0., jnp.array([0., 0.])), 0.)"
   ]
  },
  {
   "attachments": {},
   "cell_type": "markdown",
   "metadata": {},
   "source": [
    "To perform maximum likelihood estimation in a parameterized log-concave state space model we have to evaluate the likelihood several times. For evaluating the likelihood at $\\theta$ we have to perform the following:\n",
    "\n",
    "1. Find a surrogate gaussian model $g(x,z)$ for $p_\\theta(x,y)$ (e.g. [mode estimation](30_mode_estimation.ipynb) or [efficient importance sampling](50_modified_efficient_importance_sampling.ipynb)).\n",
    "2. Generate [importance samples](40_importance_sampling.ipynb) from these models using the [Kalman smoother](10_kalman_filter_smoother.ipynb).\n",
    "3. Approximate the negative log likelihood using the methods of this module.\n",
    "\n",
    "This makes maximum likelihood an intensive task for these kinds of models.\n",
    "\n",
    "For an initial guess we optimize the approximatie loglikelihood with the weights component fixed at the mode, see Eq. (21) in[@Duribn1997Monte] for further details. "
   ]
  },
  {
   "cell_type": "code",
   "execution_count": 24,
   "metadata": {},
   "outputs": [],
   "source": [
    "#| export\n",
    "from isssm.importance_sampling import log_weights\n",
    "\n",
    "def initial_theta(\n",
    "    y: Float[Array, \"n+1 p\"],  # observations $y_t$\n",
    "    model,  # parameterized LCSSM\n",
    "    theta0: Float[Array, \"k\"],  # initial parameter guess\n",
    "    aux,  # auxiliary data for the model\n",
    "    n_iter_me: int, # number of mode estimation iterations\n",
    "    s_init: Float[Array, \"n+1 m\"],  # initial signals for mode estimation\n",
    "    options=None, # options for the optimizer\n",
    "):\n",
    "    \"\"\"Initial value for Maximum Likelihood Estimation for Log Concave SSMs\"\"\"\n",
    "    def f(theta):\n",
    "        x0, A, Sigma, B, dist, xi = model(theta, aux)\n",
    "        \n",
    "        X, z, Omega = LA(y, x0, A, Sigma, B, dist, xi, s_init, n_iter_me)\n",
    "\n",
    "        signal = (B @ X[:,:,None])[:,:,0]\n",
    "        _, _, x_pred, Xi_pred = kalman(z, x0, Sigma, Omega, A, B)\n",
    "\n",
    "        negloglik = gnll(z, x_pred, Xi_pred, B, Omega) - log_weights(signal, y, dist, xi, z, Omega).sum()\n",
    "        return negloglik\n",
    "    \n",
    "    # Nelder-Mead does not use gradients\n",
    "    result = minimize_scipy(f, theta0, method=\"BFGS\", options=options)\n",
    "    #solver = BFGS(f, value_and_grad=True, )\n",
    "    #result = solver.run(theta0)\n",
    "    return result "
   ]
  },
  {
   "attachments": {},
   "cell_type": "markdown",
   "metadata": {},
   "source": [
    "As an example consider a parameterized version of the [common factor negative binomial model](20_lcssm.ipynb#Negative_Binomial_Common_Factor_Model) with unknown parameters $\\sigma^2_\\varepsilon$ and $r$."
   ]
  },
  {
   "cell_type": "code",
   "execution_count": 25,
   "metadata": {},
   "outputs": [
    {
     "data": {
      "text/plain": [
       "Array([-2.30258509,  2.99573227], dtype=float64)"
      ]
     },
     "execution_count": 25,
     "metadata": {},
     "output_type": "execute_result"
    }
   ],
   "source": [
    "def lc_model(theta, aux):\n",
    "    log_s2_eps, log_r = theta\n",
    "\n",
    "    n, x0 = aux\n",
    "    \n",
    "    r = jnp.exp(log_r)\n",
    "    s2_eps = jnp.exp(log_s2_eps)\n",
    "\n",
    "    A = jnp.broadcast_to(jnp.eye(3), (n, 3, 3))\n",
    "    Sigma = jnp.broadcast_to(jnp.eye(3) * s2_eps, (n+1, 3, 3))\n",
    "    B = jnp.broadcast_to(jnp.array([[1., 1., 0.], [0., 1., 1.]]), (n+1, 2, 3))\n",
    "\n",
    "    return nb_lcssm(x0, A, Sigma, B, r)\n",
    "\n",
    "n = 10\n",
    "theta_lc = jnp.array([jnp.log(0.1), jnp.log(20.)])\n",
    "aux = (n, jnp.ones(3))\n",
    "x0, A, Sigma, B, dist, xi = lc_model(theta_lc, aux)\n",
    "key = jrn.PRNGKey(512)\n",
    "key, subkey = jrn.split(key)\n",
    "_, (y,) = simulate_lcssm(x0, A, Sigma, B, dist, xi, 1, subkey)\n",
    "theta_lc"
   ]
  },
  {
   "cell_type": "code",
   "execution_count": 26,
   "metadata": {},
   "outputs": [
    {
     "data": {
      "text/plain": [
       "array([-2.17394536,  0.69379333])"
      ]
     },
     "execution_count": 26,
     "metadata": {},
     "output_type": "execute_result"
    }
   ],
   "source": [
    "initial_result = initial_theta(\n",
    "    y, lc_model, theta_lc, aux, 10, jnp.log(y + 1) \n",
    ")\n",
    "theta0 = initial_result.x\n",
    "theta0"
   ]
  },
  {
   "cell_type": "code",
   "execution_count": 40,
   "metadata": {},
   "outputs": [],
   "source": [
    "#| export\n",
    "def mle_lcssm(\n",
    "    y: Float[Array, \"n+1 p\"],  # observations $y_t$\n",
    "    model,  # parameterized LCSSM\n",
    "    theta0: Float[Array, \"k\"],  # initial parameter guess\n",
    "    aux,  # auxiliary data for the model\n",
    "    n_iter_me: int, # number of mode estimation iterations\n",
    "    s_init: Float[Array, \"n+1 m\"],  # initial signals for mode estimation\n",
    "    N: int, # number of importance samples\n",
    "    key: Array, # random key\n",
    "    options=None, # options for the optimizer\n",
    ") -> Float[Array, \"k\"]: # MLE\n",
    "    \"\"\"Maximum Likelihood Estimation for Log Concave SSMs\"\"\"\n",
    "\n",
    "    #def model_log_prob(theta, X):\n",
    "    #    x0, A, Sigma, B, dist, xi = model(theta, aux)\n",
    "    #    n, _, _ = A.shape\n",
    "    #    signal = (B @ X[:,:,None])[:,:,0]\n",
    "    #    return dist(signal, xi).log_prob(y).sum()\n",
    "    #d_model_log_prob = grad(model_log_prob, argnums=0)\n",
    "    #vd_model_log_prob = vmap(d_model_log_prob, (None, 0))\n",
    "\n",
    "    def f(theta, key):\n",
    "        x0, A, Sigma, B, dist, xi = model(theta, aux)\n",
    "        \n",
    "        _, z, Omega = LA(y, x0, A, Sigma, B, dist, xi, s_init, n_iter_me)\n",
    "\n",
    "        key, subkey = jrn.split(key)    \n",
    "        z, Omega = MEIS(y, x0, A, Sigma, B, xi, dist, z, Omega, n_iter_me, N, subkey)\n",
    "\n",
    "        key, subkey = jrn.split(key)    \n",
    "        _, log_weights = lcssm_importance_sampling(\n",
    "            y, x0, A, Sigma, B, dist, xi, z, Omega, N, subkey\n",
    "        )\n",
    "\n",
    "        _, _, x_pred, Xi_pred = kalman(z, x0, Sigma, Omega, A, B)\n",
    "\n",
    "        negloglik = _lcnll(gnll(z, x_pred, Xi_pred, B, Omega), log_weights)\n",
    "        #norm_weights = normalize_weights(log_weights)\n",
    "        #gradient = -(vd_model_log_prob(theta, samples) * norm_weights[:, None]).sum(axis=0)\n",
    "        return negloglik\n",
    "    \n",
    "    # Nelder-Mead does not use gradients\n",
    "    key, subkey = jrn.split(key)\n",
    "    result = minimize_scipy(f, theta0, method=\"BFGS\", options=options, args=(subkey,))\n",
    "    #solver = BFGS(f, value_and_grad=True, )\n",
    "    #result = solver.run(theta0)\n",
    "    return result "
   ]
  },
  {
   "cell_type": "code",
   "execution_count": 41,
   "metadata": {},
   "outputs": [],
   "source": [
    "#| hide\n",
    "# start at true parameter\n",
    "key, subkey = jrn.split(key)\n",
    "result = mle_lcssm(y, lc_model, theta0, aux, 10, jnp.log(y + 1.), 1000, subkey)"
   ]
  },
  {
   "cell_type": "code",
   "execution_count": 42,
   "metadata": {},
   "outputs": [
    {
     "data": {
      "text/plain": [
       "  message: Optimization terminated successfully.\n",
       "  success: True\n",
       "   status: 0\n",
       "      fun: 44.67503539774856\n",
       "        x: [-2.120e+00  6.935e-01]\n",
       "      nit: 5\n",
       "      jac: [ 4.768e-07  1.431e-06]\n",
       " hess_inv: [[ 8.494e-01  2.485e-01]\n",
       "            [ 2.485e-01  6.285e-01]]\n",
       "     nfev: 18\n",
       "     njev: 6"
      ]
     },
     "execution_count": 42,
     "metadata": {},
     "output_type": "execute_result"
    }
   ],
   "source": [
    "#| hide\n",
    "result"
   ]
  },
  {
   "cell_type": "code",
   "execution_count": 43,
   "metadata": {},
   "outputs": [],
   "source": [
    "@jit\n",
    "def lcnll_full(theta):\n",
    "    x0, A, Sigma, B, xi_fun, dist = lc_model(theta, aux)\n",
    "\n",
    "    _, z, Omega = mode_estimation(y, x0, A, Sigma, B, xi_fun, dist, jnp.log(y + 1.), 10)\n",
    "\n",
    "    return lcnll(y, x0, A, Sigma, B, xi_fun, dist, z, Omega, 1000, subkey)"
   ]
  },
  {
   "cell_type": "code",
   "execution_count": 44,
   "metadata": {},
   "outputs": [
    {
     "data": {
      "image/png": "[encoded data removed]",
      "text/plain": [
       "<Figure size 640x480 with 2 Axes>"
      ]
     },
     "metadata": {},
     "output_type": "display_data"
    }
   ],
   "source": [
    "# 2d grid on the log scale\n",
    "log_sigma, log_r = jnp.meshgrid(jnp.linspace(-3, 3, 21) + theta_lc[0], jnp.linspace(-4, 3, 21) + theta_lc[1])\n",
    "#flatten\n",
    "thetas = jnp.vstack([log_sigma.ravel(), log_r.ravel()]).T\n",
    "\n",
    "nlls = vmap(lcnll_full)(thetas)\n",
    "#location of minium in nlls\n",
    "i = jnp.argmin(nlls)\n",
    "#location of minimum in the grid\n",
    "i_sigma, i_r = i // 21, i % 21\n",
    "\n",
    "plt.contourf(log_sigma, log_r, nlls.reshape(21, 21))\n",
    "plt.scatter(log_sigma[i_sigma, i_r], log_r[i_sigma, i_r], c=\"white\", marker=\"x\", label=\"min_grid\")\n",
    "plt.scatter(theta_lc[0], theta_lc[1], c=\"r\", marker=\"x\", label=\"true\")\n",
    "plt.scatter(theta0[0], theta0[1], c=\"black\", marker=\"x\", label=\"$\\\\theta_0$\")\n",
    "plt.scatter(*result.x, c=\"g\", marker=\"o\", label=\"min_mle\")\n",
    "plt.legend()\n",
    "plt.xlabel(\"$\\\\log(\\\\sigma^2_\\\\varepsilon)$\")\n",
    "plt.ylabel(\"$\\\\log(r)$\")\n",
    "plt.colorbar()\n",
    "plt.show()"
   ]
  },
  {
   "cell_type": "code",
   "execution_count": null,
   "metadata": {},
   "outputs": [],
   "source": [
    "#| hide\n",
    "import nbdev; nbdev.nbdev_export()"
   ]
  }
 ],
 "metadata": {
  "kernelspec": {
   "display_name": "python3",
   "language": "python",
   "name": "python3"
  },
  "language_info": {
   "codemirror_mode": {
    "name": "ipython",
    "version": 3
   },
   "file_extension": ".py",
   "mimetype": "text/x-python",
   "name": "python",
   "nbconvert_exporter": "python",
   "pygments_lexer": "ipython3",
   "version": "3.10.13"
  }
 },
 "nbformat": 4,
 "nbformat_minor": 2
}
