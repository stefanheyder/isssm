{
 "cells": [
  {
   "attachments": {},
   "cell_type": "markdown",
   "metadata": {},
   "source": [
    "# Analytical Verification of Kalman filter and smoother\n",
    "> \n"
   ]
  },
  {
   "attachments": {},
   "cell_type": "markdown",
   "metadata": {},
   "source": [
    "We start with a simple verification for a model that only consists of $X_0, X_1, Y_0, Y_1$.\n",
    "\n",
    "For this model the filtering and smoothing distributions is easily derived by hand and we can compare to the outputs of the `isssm.kalman.kalman`/`isssm.kalman.smoother` and `isssm.kalman.sqrt_filter`/`isssm.kalman.sqrt_smoother` methods.\n",
    "\n"
   ]
  },
  {
   "cell_type": "code",
   "execution_count": null,
   "metadata": {},
   "outputs": [],
   "source": [
    "from isssm.glssm_models import lcm\n",
    "from isssm.glssm import simulate_glssm\n",
    "from isssm.kalman import kalman, smoother, sqrt_kalman, sqrt_smoother\n",
    "import jax.numpy as jnp\n",
    "import jax.random as jrn\n",
    "import fastcore.test as fct\n",
    "import jax.scipy.linalg as jsla"
   ]
  },
  {
   "cell_type": "code",
   "execution_count": null,
   "metadata": {},
   "outputs": [
    {
     "name": "stderr",
     "output_type": "stream",
     "text": [
      "No GPU/TPU found, falling back to CPU. (Set TF_CPP_MIN_LOG_LEVEL=0 and rerun for more info.)\n"
     ]
    }
   ],
   "source": [
    "x0, A, B, Sigma, Omega = lcm(1, 0., 1., 1., 1.)\n",
    "\n",
    "_, (y,) = simulate_glssm(x0, A, B, Sigma, Omega, 1, jrn.PRNGKey(34234))\n"
   ]
  },
  {
   "cell_type": "code",
   "execution_count": null,
   "metadata": {},
   "outputs": [],
   "source": [
    "EX = jnp.array([x0, x0])\n",
    "EY = jnp.array([x0, x0])\n",
    "\n",
    "CovX = jnp.array([[1., 1.], [1., 2.]])\n",
    "CovY = jnp.array([[2., 1.], [1., 3.]])\n",
    "\n",
    "CovXY = jnp.array([[1., 1.], [1., 2.]])\n",
    "\n",
    "EX_c_Y = EX + CovXY @ jnp.linalg.inv(CovY) @ (y - EY)\n",
    "CovX_c_Y = CovX - CovXY @ jnp.linalg.inv(CovY) @ CovXY.T\n"
   ]
  },
  {
   "cell_type": "code",
   "execution_count": null,
   "metadata": {},
   "outputs": [],
   "source": [
    "x_filt, Xi_filt, x_pred, Xi_pred = kalman(y, x0, Sigma, Omega, A, B)\n",
    "x_smooth, Xi_smooth = smoother(x_filt, Xi_filt, x_pred, Xi_pred, A)\n",
    "\n",
    "fct.test_close(x_smooth, EX_c_Y)\n",
    "fct.test_close(Xi_smooth, jnp.diag(CovX_c_Y).reshape((2,1,1)))\n",
    "\n",
    "fct.test_close(x_smooth[-1], x_filt[-1])\n",
    "fct.test_close(Xi_smooth[-1], Xi_filt[-1])"
   ]
  },
  {
   "cell_type": "code",
   "execution_count": null,
   "metadata": {},
   "outputs": [],
   "source": [
    "cuSigma = jsla.cholesky(Sigma)\n",
    "cuOmega = jsla.cholesky(Omega)\n",
    "cx_filt, cuXi_filt, cx_pred, cuXi_pred, G, cuH = sqrt_kalman(y, x0, cuSigma, cuOmega, A, B)\n",
    "\n",
    "cx_smooth, cuXi_smooth = sqrt_smoother(cx_filt, cuXi_filt, cx_pred, cuXi_pred, G, cuH)\n",
    "\n",
    "fct.test_close(Xi_smooth, cuXi_smooth**2)\n",
    "fct.test_close(x_smooth, cx_smooth)"
   ]
  },
  {
   "attachments": {},
   "cell_type": "markdown",
   "metadata": {},
   "source": [
    "::: {.content-hidden}\n",
    "Any GLSSM can also be written in matrix form (see [@Durbin2012Time] Section 4.13) and we will use this to analytically verify that filter, smoother and likelihood calculation work as expected.\n",
    "\n",
    "Let $X = (X_0, \\dots, X_n)$, $Y = (Y_0, \\dots, Y_n)$, $\\varepsilon = (\\varepsilon_{1}, \\dots, \\varepsilon_{n})$ and $\\eta = (\\eta_0, \\dots, \\eta_n)$.\n",
    "We can then express the relationships between $X,Y,\\varepsilon,\\eta$ as \n",
    "\n",
    "$$\n",
    "\\begin{align*}\n",
    "    X &= A \\left(\\begin{pmatrix} X_0 \\\\ \n",
    "    \\mathbf 0_{n \\times 1} \\end{pmatrix} + R \\varepsilon\\right)\\\\\n",
    "    Y &= B X + \\eta\n",
    "\\end{align*}\n",
    "$$\n",
    "\n",
    "with appropriate matrices $A, R, B$. The covariance matrices of $\\varepsilon$ and $\\eta$ are block-diagonal matrices containing $\\Sigma_t$ and $\\Omega_t$, $t = 0, \\dots, n$.\n",
    "\n",
    ":::"
   ]
  },
  {
   "attachments": {},
   "cell_type": "markdown",
   "metadata": {},
   "source": [
    "::: {.content-hidden}\n",
    "Performing the Kalman smoother is then equivalent to calculating the conditional distribution of $X$ given $Y$, which is a normal distribution with mean\n",
    "$$\n",
    "\\mathbf E \\left(X | Y \\right) = \\E X + \\cov (X, Y) \\cov(Y)^{-1} (Y - \\E Y)\n",
    "$$\n",
    "and covariance\n",
    "$$\n",
    "\\cov (X | Y )= \\cov (X) - \\cov (X, Y) \\cov(Y)^{-1} \\cov(Y, X).\n",
    "$$\n",
    "\n",
    "In this setting we have \n",
    "$$\n",
    "\\begin{align*}\n",
    "    A &= \\begin{pmatrix} \n",
    "        I & 0 & 0 & 0 & \\dots \\\\ \n",
    "        A_0 & I & 0 & 0 & \\dots \\\\\n",
    "        A_1 A_0 & A_1 & I & 0 & \\dots \\\\\n",
    "        \\dots & \\dots & \\dots & \\dots & \\dots \\\\\n",
    "     \\end{pmatrix} \\\\\n",
    "    R &=\\begin{pmatrix} \n",
    "        0 & 0 & 0 & 0 & \\dots \\\\ \n",
    "        I & 0 & 0 & 0 & \\dots \\\\\n",
    "        0 & I & 0 & 0 & \\dots \\\\\n",
    "        0 & 0 & I & 0 & \\dots \\\\\n",
    "        \\dots & \\dots & \\dots & \\dots & \\dots \\\\\n",
    "     \\end{pmatrix} \\\\\n",
    "     \\cov {\\varepsilon} &= \\text{diag}(\\Sigma_0, \\dots, \\Sigma_n) \\\\\n",
    "    B &= \\text{diag} (B_0, \\dots, B_n) \\\\\n",
    "    \\cov{\\eta} &= \\text{diag} (\\Omega_0, \\dots, \\Omega_n)\n",
    "\\end{align*} \n",
    "$$\n",
    ":::"
   ]
  }
 ],
 "metadata": {
  "kernelspec": {
   "display_name": "python3",
   "language": "python",
   "name": "python3"
  }
 },
 "nbformat": 4,
 "nbformat_minor": 2
}
