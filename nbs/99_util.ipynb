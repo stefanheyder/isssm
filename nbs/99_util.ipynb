{
 "cells": [
  {
   "cell_type": "markdown",
   "metadata": {},
   "source": [
    "# Utilities"
   ]
  },
  {
   "cell_type": "code",
   "execution_count": null,
   "metadata": {},
   "outputs": [],
   "source": [
    "#| default_exp util\n",
    "import jax\n",
    "jax.config.update(\"jax_enable_x64\", True)"
   ]
  },
  {
   "cell_type": "code",
   "execution_count": null,
   "metadata": {},
   "outputs": [],
   "source": [
    "#| export\n",
    "import jax.numpy as jnp\n",
    "from jax import vmap\n",
    "from jaxtyping import Array, Float, Bool\n",
    "import tensorflow_probability.substrates.jax as tfp\n",
    "from tensorflow_probability.substrates.jax.distributions import MultivariateNormalLinearOperator as MVNLO\n"
   ]
  },
  {
   "cell_type": "code",
   "execution_count": null,
   "metadata": {},
   "outputs": [],
   "source": [
    "import jax"
   ]
  },
  {
   "cell_type": "code",
   "execution_count": null,
   "metadata": {},
   "outputs": [],
   "source": [
    "jax.config.update(\"jax_enable_x64\", True)"
   ]
  },
  {
   "cell_type": "markdown",
   "metadata": {},
   "source": [
    "## sampling from degenerate Multivariate normal\n",
    "\n",
    "The `MultivariateNormalFullCovariance` distribution from `tfp` only supports non-singular covariance matrices for sampling, because internally a Cholesky decomposition is used, which is ambiguous for singular symmetric matrices. Instead, we use an eigenvalue decomposition, and compute a valid Cholesky root by QR-decomposition."
   ]
  },
  {
   "cell_type": "code",
   "execution_count": null,
   "metadata": {},
   "outputs": [],
   "source": [
    "#| export\n",
    "LOFM = tfp.tf2jax.linalg.LinearOperatorFullMatrix\n",
    "LOLT = tfp.tf2jax.linalg.LinearOperatorLowerTriangular\n",
    "def degenerate_cholesky(Sigma): \n",
    "    evals, evecs = jnp.linalg.eigh(Sigma)\n",
    "    # transpose for QR\n",
    "    # ensure positive eigenvalues\n",
    "    sqrt_cov = jnp.einsum('...ij,...j->...ji', evecs, jnp.sqrt(jnp.abs(evals)))\n",
    "    Q, R = jnp.linalg.qr(sqrt_cov, mode='complete')\n",
    "    # ensure positive diagonal\n",
    "    R = R * jnp.sign(jnp.einsum('...ii->...i', R)[..., None])\n",
    "    L = R.swapaxes(-1, -2)\n",
    "    return L\n",
    "\n",
    "def MVN_degenerate(loc: Array, cov: Array) -> tfp.distributions.MultivariateNormalLinearOperator:\n",
    "    L = degenerate_cholesky(cov)\n",
    "    return MVNLO(loc=loc, scale=LOLT(L))"
   ]
  },
  {
   "cell_type": "code",
   "execution_count": null,
   "metadata": {},
   "outputs": [],
   "source": [
    "import jax.random as jrn\n",
    "import matplotlib.pyplot as plt\n",
    "import fastcore.test as fct"
   ]
  },
  {
   "cell_type": "code",
   "execution_count": null,
   "metadata": {},
   "outputs": [
    {
     "data": {
      "image/png": "[encoded data removed]",
      "text/plain": [
       "<Figure size 640x480 with 1 Axes>"
      ]
     },
     "metadata": {},
     "output_type": "display_data"
    }
   ],
   "source": [
    "mu = jnp.zeros(2)\n",
    "Sigma = jnp.array([[1., 1.], [1., 1.]])\n",
    "\n",
    "N = 1000\n",
    "samples = MVN_degenerate(mu, Sigma).sample(seed=jrn.PRNGKey(0), sample_shape=(N,))\n",
    "plt.title(\"Samples from degenerate 2D Gaussian\")\n",
    "plt.scatter(samples[:, 0], samples[:, 1])\n",
    "plt.show()\n",
    "\n",
    "fct.test_close(samples @ jnp.array([[1.], [-1.]]), jnp.zeros(N))"
   ]
  },
  {
   "cell_type": "markdown",
   "metadata": {},
   "source": [
    "## optimization"
   ]
  },
  {
   "cell_type": "code",
   "execution_count": null,
   "metadata": {},
   "outputs": [],
   "source": [
    "# | export\n",
    "def converged(\n",
    "    new: Float[Array, \"...\"],  # the new array\n",
    "    old: Float[Array, \"...\"],  # the old array\n",
    "    eps: Float,  # tolerance\n",
    ") -> Bool:  # whether the arrays are close enough\n",
    "    \"\"\"check that sup-norm of relative change is smaller than tolerance\"\"\"\n",
    "    is_close = jnp.max(jnp.abs((new - old) / old)) < eps\n",
    "    any_nans = jnp.isnan(new).sum() > 0\n",
    "    return jnp.logical_or(is_close, any_nans)"
   ]
  },
  {
   "cell_type": "markdown",
   "metadata": {},
   "source": [
    "## vmapped utilities"
   ]
  },
  {
   "cell_type": "code",
   "execution_count": null,
   "metadata": {},
   "outputs": [],
   "source": [
    "#| export\n",
    "\n",
    "# matmul with $A_t$ and $X^i_t$\n",
    "mm_sim = vmap(jnp.matmul, (None, 0))\n",
    "# matmul with $(A_t)_{t}$ and $(X_t)_{t}$\n",
    "mm_time = vmap(jnp.matmul, (0, 0))\n",
    "# matmul with $(A_t)_{t}$ and $(X^i_t)_{i,t}$\n",
    "mm_time_sim = vmap(mm_time, (None, 0))"
   ]
  },
  {
   "cell_type": "code",
   "execution_count": null,
   "metadata": {},
   "outputs": [],
   "source": [
    "#| hide\n",
    "import nbdev; nbdev.nbdev_export()"
   ]
  }
 ],
 "metadata": {
  "kernelspec": {
   "display_name": "python3",
   "language": "python",
   "name": "python3"
  }
 },
 "nbformat": 4,
 "nbformat_minor": 2
}
