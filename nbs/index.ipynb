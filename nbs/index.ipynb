{
 "cells": [
  {
   "cell_type": "code",
   "execution_count": null,
   "metadata": {},
   "outputs": [],
   "source": [
    "# | hide"
   ]
  },
  {
   "attachments": {},
   "cell_type": "markdown",
   "metadata": {},
   "source": [
    "# Importance Sampling for State Space Models (isssm)\n",
    "\n",
    ">  written in jax"
   ]
  },
  {
   "attachments": {},
   "cell_type": "markdown",
   "metadata": {},
   "source": [
    "## Install\n",
    "\n",
    "### Option 1: Install from PyPI (for users)"
   ]
  },
  {
   "cell_type": "markdown",
   "metadata": {},
   "source": [
    "```sh\n",
    "pip install isssm\n",
    "```"
   ]
  },
  {
   "cell_type": "markdown",
   "metadata": {},
   "source": [
    "### Option 2: Development Setup with uv (for contributors)\n",
    "\n",
    "This project uses [uv](https://github.com/astral-sh/uv) for dependency management and virtual environments.\n",
    "\n",
    "1. **Install uv** (if not already installed):\n",
    "\n",
    "   ```sh\n",
    "   # On macOS/Linux\n",
    "   curl -LsSf https://astral.sh/uv/install.sh | sh\n",
    "   \n",
    "   # On Windows\n",
    "   powershell -c \"irm https://astral.sh/uv/install.ps1 | iex\"\n",
    "   ```\n",
    "\n",
    "2. **Clone the repository**:\n",
    "\n",
    "   ```sh\n",
    "   git clone https://github.com/stefanheyder/isssm.git\n",
    "   cd isssm\n",
    "   ```\n",
    "\n",
    "3. **Create a virtual environment**:\n",
    "\n",
    "   ```sh\n",
    "   uv venv\n",
    "   ```\n",
    "\n",
    "4. **Activate the virtual environment**:\n",
    "\n",
    "   ```sh\n",
    "   # On macOS/Linux\n",
    "   source .venv/bin/activate\n",
    "   \n",
    "   # On Windows\n",
    "   .venv\\Scripts\\activate\n",
    "   ```\n",
    "\n",
    "5. **Install the package in development mode**:\n",
    "\n",
    "   ```sh\n",
    "   uv pip install -e \".[dev]\"\n",
    "   ```"
   ]
  },
  {
   "attachments": {},
   "cell_type": "markdown",
   "metadata": {},
   "source": [
    "## How to use\n",
    "Please check out [the documentation](https://stefanheyder.github.io/isssm) for details and examples.\n",
    "\n",
    "For the mathematics and further details, please have a look at my [PhD thesis](https://github.com/stefanheyder/dissertation).\n"
   ]
  },
  {
   "cell_type": "markdown",
   "metadata": {},
   "source": [
    "## Development Workflow with nbdev\n",
    "\n",
    "This project uses [nbdev](https://nbdev.fast.ai/) for literate programming. Here's how to work with it:\n",
    "\n",
    "1. **Edit notebooks in the `nbs/` directory**:\n",
    "   \n",
    "   All development happens in Jupyter notebooks in the `nbs/` directory.\n",
    "\n",
    "2. **Export your changes to Python modules**:\n",
    "\n",
    "   ```sh\n",
    "   nbdev_export\n",
    "   ```\n",
    "\n",
    "3. **Build the documentation**:\n",
    "\n",
    "   ```sh\n",
    "   nbdev_docs\n",
    "   ```\n",
    "\n",
    "4. **Preview the documentation locally**:\n",
    "\n",
    "   ```sh\n",
    "   nbdev_preview\n",
    "   ```"
   ]
  }
 ],
 "metadata": {
  "kernelspec": {
   "display_name": "python3",
   "language": "python",
   "name": "python3"
  }
 },
 "nbformat": 4,
 "nbformat_minor": 4
}
