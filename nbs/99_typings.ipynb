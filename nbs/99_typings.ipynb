{
 "cells": [
  {
   "cell_type": "code",
   "execution_count": null,
   "metadata": {},
   "outputs": [],
   "source": [
    "#| default_exp typing"
   ]
  },
  {
   "cell_type": "markdown",
   "metadata": {},
   "source": [
    "# Typings\n",
    "> types used throughout this package"
   ]
  },
  {
   "cell_type": "code",
   "execution_count": null,
   "metadata": {},
   "outputs": [],
   "source": [
    "#| export\n",
    "from typing import NamedTuple\n",
    "import tensorflow_probability.substrates.jax.distributions as tfd\n",
    "from jaxtyping import Float, Array"
   ]
  },
  {
   "cell_type": "code",
   "execution_count": null,
   "metadata": {},
   "outputs": [],
   "source": [
    "#| export\n",
    "InitialState = Float[Array, \"m\"]\n",
    "Observations = Float[Array, \"n+1 p\"]\n",
    "States = Float[Array, \"n+1 m\"]"
   ]
  },
  {
   "cell_type": "markdown",
   "metadata": {},
   "source": [
    "## [00_glssm.ipynb]"
   ]
  },
  {
   "cell_type": "code",
   "execution_count": null,
   "metadata": {},
   "outputs": [],
   "source": [
    "#| export\n",
    "class GLSSMState(NamedTuple):\n",
    "    x0: Float[Array, \"m\"] # initial mean \n",
    "    A: Float[Array, \"n m m\"] # state transition matrix\n",
    "    Sigma: Float[Array, \"n+1 m m\"]\n",
    "\n",
    "class GLSSMObservationModel(NamedTuple):\n",
    "    B: Float[Array, \"n+1 m m\"]\n",
    "    Omega: Float[Array, \"n+1 m m\"]\n",
    "\n",
    "class GLSSM(NamedTuple):\n",
    "    x0: Float[Array, \"m\"]\n",
    "    A: Float[Array, \"n m m\"]\n",
    "    Sigma: Float[Array, \"n+1 m m\"]\n",
    "    B: Float[Array, \"n+1 m m\"]\n",
    "    Omega: Float[Array, \"n+1 m m\"]"
   ]
  },
  {
   "cell_type": "markdown",
   "metadata": {},
   "source": [
    "## [10_kalman_filter_smoother.ipynb]"
   ]
  },
  {
   "cell_type": "code",
   "execution_count": null,
   "metadata": {},
   "outputs": [],
   "source": [
    "#| export\n",
    "\n",
    "class FilterResult(NamedTuple):\n",
    "    x_filt: Float[Array, \"n+1 m\"]\n",
    "    Xi_filt: Float[Array, \"n+1 m m\"]\n",
    "    x_pred: Float[Array, \"n+1 m\"]\n",
    "    Xi_pred: Float[Array, \"n+1 m m\"]\n",
    "\n",
    "class SmootherResult(NamedTuple):\n",
    "    x_smooth: Float[Array, \"n+1 m\"]\n",
    "    Xi_smooth: Float[Array, \"n+1 m m\"]"
   ]
  },
  {
   "cell_type": "markdown",
   "metadata": {},
   "source": [
    "## [20_pgssm.ipynb]"
   ]
  },
  {
   "cell_type": "code",
   "execution_count": null,
   "metadata": {},
   "outputs": [],
   "source": [
    "#| export\n",
    "\n",
    "class PGSSM(NamedTuple):\n",
    "    x0: Float[Array, \"m\"]\n",
    "    A: Float[Array, \"n m m\"]\n",
    "    Sigma: Float[Array, \"n+1 m m\"]\n",
    "    B: Float[Array, \"n+1 m m\"]\n",
    "    dist: tfd.Distribution\n",
    "    xi: Float[Array, \"n+1 m\"]"
   ]
  },
  {
   "cell_type": "markdown",
   "metadata": {},
   "source": [
    "## [45_cross_entropy_method.ipynb]"
   ]
  },
  {
   "cell_type": "code",
   "execution_count": null,
   "metadata": {},
   "outputs": [],
   "source": [
    "#| export\n",
    "class MarkovProcessCholeskyComponents(NamedTuple):\n",
    "    diagonals: Float[Array, \"n+1 m m\"]\n",
    "    off_diagonals: Float[Array, \"n m m\"]"
   ]
  },
  {
   "cell_type": "code",
   "execution_count": null,
   "metadata": {},
   "outputs": [],
   "source": [
    "#| hide\n",
    "import nbdev; nbdev.nbdev_export()"
   ]
  }
 ],
 "metadata": {
  "kernelspec": {
   "display_name": "python3",
   "language": "python",
   "name": "python3"
  }
 },
 "nbformat": 4,
 "nbformat_minor": 2
}
