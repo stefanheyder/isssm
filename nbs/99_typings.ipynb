{
 "cells": [
  {
   "cell_type": "code",
   "execution_count": null,
   "metadata": {},
   "outputs": [],
   "source": [
    "# | default_exp typing"
   ]
  },
  {
   "cell_type": "markdown",
   "metadata": {},
   "source": [
    "# Typings\n",
    "> types used throughout this package"
   ]
  },
  {
   "cell_type": "code",
   "execution_count": null,
   "metadata": {},
   "outputs": [],
   "source": [
    "# | export\n",
    "from typing import NamedTuple\n",
    "import tensorflow_probability.substrates.jax.distributions as tfd\n",
    "from jaxtyping import Float, Array, Bool"
   ]
  },
  {
   "cell_type": "code",
   "execution_count": null,
   "metadata": {},
   "outputs": [],
   "source": [
    "# | export\n",
    "InitialState = Float[Array, \"m\"]\n",
    "Observations = Float[Array, \"n+1 p\"]\n",
    "States = Float[Array, \"n+1 m\"]"
   ]
  },
  {
   "cell_type": "markdown",
   "metadata": {},
   "source": [
    "## [00_glssm.ipynb]"
   ]
  },
  {
   "cell_type": "code",
   "execution_count": null,
   "metadata": {},
   "outputs": [],
   "source": [
    "# | export\n",
    "class GLSSMState(NamedTuple):\n",
    "    u: Float[Array, \"n+1 m\"]  # state bias\n",
    "    A: Float[Array, \"n m m\"]  # state transition matrix\n",
    "    D: Float[Array, \"n m l\"]  # noise embedding matrix\n",
    "    Sigma0: Float[Array, \"m m\"]  # initial state covariance matrix\n",
    "    Sigma: Float[Array, \"n l l\"]  # state covariance matrix\n",
    "\n",
    "\n",
    "class GLSSMObservationModel(NamedTuple):\n",
    "    v: Float[Array, \"n+1 p\"]  # observation bias\n",
    "    B: Float[Array, \"n+1 p m\"]  # observation matrix\n",
    "    Omega: Float[Array, \"n+1 p p\"]  # observation covariance matrix\n",
    "\n",
    "\n",
    "class GLSSM(NamedTuple):\n",
    "    u: Float[Array, \"n+1 m\"]  # state bias\n",
    "    A: Float[Array, \"n m m\"]  # state transition matrix\n",
    "    D: Float[Array, \"n m l\"]  # noise embedding matrix\n",
    "    Sigma0: Float[Array, \"m m\"]  # initial state covariance matrix\n",
    "    Sigma: Float[Array, \"n l l\"]  # state covariance matrix\n",
    "    v: Float[Array, \"n+1 p\"]  # observation bias\n",
    "    B: Float[Array, \"n+1 p m\"]  # observation matrix\n",
    "    Omega: Float[Array, \"n+1 p p\"]  # observation covariance matrix"
   ]
  },
  {
   "cell_type": "markdown",
   "metadata": {},
   "source": [
    "## [10_kalman_filter_smoother.ipynb]"
   ]
  },
  {
   "cell_type": "code",
   "execution_count": null,
   "metadata": {},
   "outputs": [],
   "source": [
    "# | export\n",
    "\n",
    "\n",
    "class FilterResult(NamedTuple):\n",
    "    x_filt: Float[Array, \"n+1 m\"]\n",
    "    Xi_filt: Float[Array, \"n+1 m m\"]\n",
    "    x_pred: Float[Array, \"n+1 m\"]\n",
    "    Xi_pred: Float[Array, \"n+1 m m\"]\n",
    "\n",
    "\n",
    "class SmootherResult(NamedTuple):\n",
    "    x_smooth: Float[Array, \"n+1 m\"]\n",
    "    Xi_smooth: Float[Array, \"n+1 m m\"]"
   ]
  },
  {
   "cell_type": "markdown",
   "metadata": {},
   "source": [
    "## [20_pgssm.ipynb]"
   ]
  },
  {
   "cell_type": "code",
   "execution_count": null,
   "metadata": {},
   "outputs": [],
   "source": [
    "# | export\n",
    "\n",
    "\n",
    "class PGSSM(NamedTuple):\n",
    "    u: Float[Array, \"n+1 m\"]\n",
    "    A: Float[Array, \"n m m\"]\n",
    "    D: Float[Array, \"n m l\"]\n",
    "    Sigma0: Float[Array, \"m m\"]\n",
    "    Sigma: Float[Array, \"n l l\"]\n",
    "    v: Float[Array, \"n+1 p\"]\n",
    "    B: Float[Array, \"n+1 p m\"]\n",
    "    dist: tfd.Distribution\n",
    "    xi: Float[Array, \"n+1 p\"]\n",
    "\n",
    "\n",
    "def to_states(model: GLSSM | PGSSM) -> GLSSMState:\n",
    "    return GLSSMState(\n",
    "        u=model.u, A=model.A, D=model.D, Sigma0=model.Sigma0, Sigma=model.Sigma\n",
    "    )\n",
    "\n",
    "\n",
    "def to_observation_model(model: GLSSM) -> GLSSMObservationModel:\n",
    "    return GLSSMObservationModel(v=model.v, B=model.B, Omega=model.Omega)\n"
   ]
  },
  {
   "cell_type": "markdown",
   "metadata": {},
   "source": [
    "## [40_importance_sampling.ipynb]"
   ]
  },
  {
   "cell_type": "code",
   "execution_count": null,
   "metadata": {},
   "outputs": [],
   "source": [
    "# | export\n",
    "class GLSSMProposal(NamedTuple):\n",
    "    u: Float[Array, \"n+1 m\"]\n",
    "    A: Float[Array, \"n m m\"]\n",
    "    D: Float[Array, \"n m l\"]\n",
    "    Sigma0: Float[Array, \"m m\"]\n",
    "    Sigma: Float[Array, \"n l l\"]\n",
    "    v: Float[Array, \"n+1 p\"]\n",
    "    B: Float[Array, \"n+1 p m\"]\n",
    "    Omega: Float[Array, \"n+1 p p\"]\n",
    "    z: Float[Array, \"n+1 p\"]\n",
    "\n",
    "\n",
    "def to_glssm(proposal: GLSSMProposal) -> GLSSM:\n",
    "    return GLSSM(\n",
    "        proposal.u,\n",
    "        proposal.A,\n",
    "        proposal.D,\n",
    "        proposal.Sigma0,\n",
    "        proposal.Sigma,\n",
    "        proposal.v,\n",
    "        proposal.B,\n",
    "        proposal.Omega,\n",
    "    )\n",
    "\n",
    "\n",
    "class ConvergenceInformation(NamedTuple):\n",
    "    converged: Bool\n",
    "    n_iter: int\n",
    "    delta: Float"
   ]
  },
  {
   "cell_type": "markdown",
   "metadata": {},
   "source": [
    "## [45_cross_entropy_method.ipynb]"
   ]
  },
  {
   "cell_type": "code",
   "execution_count": null,
   "metadata": {},
   "outputs": [],
   "source": [
    "# | export\n",
    "class MarkovProposal(NamedTuple):\n",
    "    mean: Float[Array, \"n+1 m\"]\n",
    "    R: Float[Array, \"n+1 m m\"]\n",
    "    J_tt: Float[Array, \"n m m\"]  # lower triangular\n",
    "    J_tp1t: Float[Array, \"n m m\"]"
   ]
  },
  {
   "cell_type": "code",
   "execution_count": null,
   "metadata": {},
   "outputs": [],
   "source": [
    "# | hide\n",
    "import nbdev\n",
    "\n",
    "nbdev.nbdev_export()"
   ]
  }
 ],
 "metadata": {
  "kernelspec": {
   "display_name": "python3",
   "language": "python",
   "name": "python3"
  }
 },
 "nbformat": 4,
 "nbformat_minor": 2
}
