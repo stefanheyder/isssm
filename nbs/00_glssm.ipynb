{
 "cells": [
  {
   "cell_type": "code",
   "execution_count": null,
   "metadata": {},
   "outputs": [],
   "source": [
    "# | default_exp glssm"
   ]
  },
  {
   "cell_type": "code",
   "execution_count": null,
   "metadata": {},
   "outputs": [],
   "source": [
    "# | export\n",
    "import jax.numpy as jnp\n",
    "import jax.random as jrn\n",
    "from jax import vmap\n",
    "from jax.lax import scan\n",
    "from jaxtyping import Array, Float, PRNGKeyArray\n",
    "\n",
    "from isssm.kalman import kalman\n",
    "from isssm.typing import GLSSM, GLSSMObservationModel, GLSSMState, Observations, States\n",
    "from isssm.util import MVN_degenerate as MVN, mm_sim"
   ]
  },
  {
   "cell_type": "code",
   "execution_count": null,
   "metadata": {},
   "outputs": [],
   "source": [
    "# | hide\n",
    "# use x86 for testing purposes\n",
    "import jax\n",
    "import matplotlib.pyplot as plt\n",
    "from isssm.kalman import kalman, smoother\n",
    "import fastcore.test as fct"
   ]
  },
  {
   "cell_type": "code",
   "execution_count": null,
   "metadata": {},
   "outputs": [],
   "source": [
    "# use x86 for testing purposes\n",
    "jax.config.update(\"jax_enable_x64\", True)"
   ]
  },
  {
   "attachments": {},
   "cell_type": "markdown",
   "metadata": {},
   "source": [
    "# Gaussian Linear State Space Models\n",
    "> Simulation and components, see also [the corresponding chapter in my thesis](https://stefanheyder.github.io/dissertation/thesis.pdf#nameddest=section.3.2)."
   ]
  },
  {
   "attachments": {},
   "cell_type": "markdown",
   "metadata": {},
   "source": [
    "Consider a Gaussian state space model of the form\n",
    "$$\n",
    "\\begin{align*}\n",
    "    X_0 &\\sim \\mathcal N (u_{0}, \\Sigma_0) &\\\\\n",
    "    X_{t + 1} &= u_{t + 1}  + A_t X_{t} + D_{t}\\varepsilon_{t + 1} &t = 0, \\dots, n - 1\\\\\n",
    "    \\varepsilon_t &\\sim \\mathcal N (0, \\Sigma_t) & t = 1, \\dots, n \\\\\n",
    "    Y_t &= v_{t} + B_t X_t + \\eta_t & t =0, \\dots, n & \\\\\n",
    "    \\eta_t &\\sim \\mathcal N(0, \\Omega_t) & t=0, \\dots, n.\n",
    "\\end{align*}\n",
    "$$\n",
    "As the joint distribution of $(X_0, \\dots, X_n, Y_0, \\dots, Y_n)$ is Gaussian, we call it a **G**aussian **l**inear  **s**tate **s**pace **m**odel (GLSSM).\n",
    "\n",
    "The dimensions of the components are as follows:\n",
    "$$\n",
    "    \\begin{align*}\n",
    "    u_{t}, X_{t} &\\in \\mathbf R^{m} \\\\\n",
    "    \\varepsilon_{t} &\\in \\mathbf R^{l} \\\\\n",
    "    v_{t}, Y_{t}, \\eta_{t} &\\in \\mathbf R^{p}\n",
    "    \\end{align*}\n",
    "$$\n",
    "and \n",
    "$$\n",
    "    \\begin{align*}\n",
    "    A_{t} &\\in \\mathbf R^{m\\times m} \\\\\n",
    "    D_{t} &\\in \\mathbf R^{m \\times l} \\\\\n",
    "    \\Sigma_{0} &\\in \\mathbf R^{m \\times m} \\\\\n",
    "    \\Sigma_{t} &\\in \\mathbf R^{l \\times l}\\\\\n",
    "    B_{t} &\\in \\mathbf R^{p \\times m} \\\\\n",
    "    \\Omega_{t} &\\in\\mathbf R^{p \\times p} \n",
    "    \\end{align*}\n",
    "$$\n",
    "and we assume that $D_t$ is a submatrix of the identity matrix, such that $D_t^T D_t = I_{l}$.\n",
    "\n",
    "\n",
    "\n",
    "\n",
    "## Sampling from the joint distribution\n",
    "To obtain a sample $(X_0, \\dots, X_n), (Y_0, \\dots, Y_n)$ we first simulate from the joint distribution of the states and then, as observations are coniditionally independent of one another given the states, simulate all states at once."
   ]
  },
  {
   "cell_type": "code",
   "execution_count": null,
   "metadata": {},
   "outputs": [],
   "source": [
    "# | export\n",
    "\n",
    "\n",
    "def simulate_states(\n",
    "    state: GLSSMState,\n",
    "    N: int,  # number of samples to draw\n",
    "    key: PRNGKeyArray,  # the random state\n",
    ") -> Float[Array, \"N n+1 m\"]:  # array of N samples from the state distribution\n",
    "    \"\"\"Simulate states of a GLSSM\"\"\"\n",
    "    u, A, D, Sigma0, Sigma = state\n",
    "\n",
    "    _, _, l = D.shape\n",
    "\n",
    "    def sim_next_states(carry, inputs):\n",
    "        x_prev, key = carry\n",
    "        u, A, D, Sigma = inputs\n",
    "\n",
    "        key, subkey = jrn.split(key)\n",
    "        eps = MVN(jnp.zeros(l), Sigma).sample(N, seed=subkey)\n",
    "\n",
    "        samples = u + mm_sim(A, x_prev) + mm_sim(D, eps)\n",
    "\n",
    "        return (samples, key), samples\n",
    "\n",
    "    key, subkey = jrn.split(key)\n",
    "    x0 = MVN(u[0], Sigma0).sample(N, subkey)\n",
    "    key, subkey = jrn.split(key)\n",
    "    init = (x0, subkey)\n",
    "\n",
    "    _, X = scan(sim_next_states, init, (u[1:], A, D, Sigma))\n",
    "\n",
    "    X = jnp.concatenate([x0[None], X], axis=0)\n",
    "\n",
    "    return X.transpose((1, 0, 2))"
   ]
  },
  {
   "cell_type": "code",
   "execution_count": null,
   "metadata": {},
   "outputs": [],
   "source": [
    "# | export\n",
    "\n",
    "from isssm.typing import to_states, to_observation_model\n",
    "\n",
    "\n",
    "def simulate_glssm(\n",
    "    glssm: GLSSM,\n",
    "    N: int,  # number of sample paths\n",
    "    key: PRNGKeyArray,  # the random state\n",
    ") -> (\n",
    "    Float[Array, \"N n+1 m\"],\n",
    "    Float[Array, \"N n+1 p\"],\n",
    "):  # tuple of two arrays each with of N samples from the state/observation distribution\n",
    "    \"\"\"Simulate states and observations of a GLSSM\"\"\"\n",
    "\n",
    "    v, B, Omega = to_observation_model(glssm)\n",
    "    key, subkey = jrn.split(key)\n",
    "    X = simulate_states(to_states(glssm), N, subkey).transpose((1, 0, 2))\n",
    "\n",
    "    S = v[:, None, :] + vmap(mm_sim, (0, 0))(B, X)\n",
    "\n",
    "    # samples x time x space\n",
    "    X = X.transpose((1, 0, 2))\n",
    "\n",
    "    S = S.transpose((1, 0, 2))\n",
    "\n",
    "    key, subkey = jrn.split(key)\n",
    "    Y = MVN(S, Omega).sample(seed=subkey)\n",
    "\n",
    "    return X, Y"
   ]
  },
  {
   "cell_type": "code",
   "execution_count": null,
   "metadata": {},
   "outputs": [],
   "source": [
    "from isssm.models.stsm import stsm"
   ]
  },
  {
   "cell_type": "markdown",
   "metadata": {},
   "source": [
    "As a toy example, we consider a structural time series model with trend and velocity, as well as a seasonal component of order 2, see [here](models/10_stsm.ipynb) for details.\n",
    "The following code creates the model and simulates once from its joint distribution."
   ]
  },
  {
   "cell_type": "code",
   "execution_count": null,
   "metadata": {},
   "outputs": [],
   "source": [
    "model = stsm(jnp.zeros(2 + 1), 0.0, 0.01, 1.0, 100, jnp.eye(2 + 1), 1.0, 2)\n",
    "\n",
    "key = jrn.PRNGKey(53412312)\n",
    "key, subkey = jrn.split(key)\n",
    "(X,), (Y,) = simulate_glssm(model, 1, subkey)"
   ]
  },
  {
   "cell_type": "code",
   "execution_count": null,
   "metadata": {},
   "outputs": [],
   "source": [
    "# | hide\n",
    "np1, p, m = model.B.shape\n",
    "fct.test_eq(X.shape, (np1, m))\n",
    "fct.test_eq(Y.shape, (np1, p))"
   ]
  },
  {
   "cell_type": "code",
   "execution_count": null,
   "metadata": {},
   "outputs": [],
   "source": [
    "fig, (ax1, ax2) = plt.subplots(2)\n",
    "\n",
    "ax1.set_title(\"$X_t$\")\n",
    "ax1.plot(X)\n",
    "\n",
    "ax2.set_title(\"$Y_t$\")\n",
    "ax2.plot(Y)\n",
    "plt.show()"
   ]
  },
  {
   "cell_type": "markdown",
   "metadata": {},
   "source": [
    "In this figure, we see that the trend varies smoothly, while the seasonal component is visible in the observations $Y_t$."
   ]
  },
  {
   "cell_type": "markdown",
   "metadata": {},
   "source": [
    "## Joint Density\n",
    "\n",
    "By the dependency structure of the model, the joint density factorizes as \n",
    "\n",
    "$$\n",
    "p(x,y) = \\prod_{t = 0}^n p(x_{t}| x_{t -1}) p(y_{t}|x_{t})\n",
    "$$\n",
    "where $p(x_0|x_{-1}) = p(x_0)$. The following functions return these components or evaluate the joint density directly."
   ]
  },
  {
   "cell_type": "code",
   "execution_count": null,
   "metadata": {},
   "outputs": [],
   "source": [
    "# | export\n",
    "\n",
    "from isssm.util import mm_time, append_to_front\n",
    "\n",
    "\n",
    "def log_probs_x(\n",
    "    x: States, state: GLSSMState  # the states  # the state model\n",
    ") -> Float[Array, \"n+1\"]:  # log probabilities $\\log p(x_t \\vert x_{t-1})$\n",
    "    \"\"\"log probabilities $\\\\log p(x_t | x_{t-1})$\"\"\"\n",
    "    u, A, D, Sigma0, Sigma = state\n",
    "    _, _, l = D.shape\n",
    "    log_p0 = MVN(u[0], Sigma0).log_prob(x[0])\n",
    "    x_prev = x[:-1]\n",
    "\n",
    "    DT = D.transpose((0, 2, 1))\n",
    "\n",
    "    eps = mm_time(DT, x[1:] - u[1:] - (A @ x_prev[:, :, None])[:, :, 0])\n",
    "\n",
    "    log_p = MVN(jnp.zeros(l), Sigma).log_prob(eps)\n",
    "    return append_to_front(log_p0, log_p)\n",
    "\n",
    "\n",
    "def log_probs_y(\n",
    "    y: Observations,  # the observations\n",
    "    x: States,  # the states\n",
    "    obs_model: GLSSMObservationModel,  # the observation model\n",
    ") -> Float[Array, \"n+1\"]:  # log probabilities $\\log p(y_t \\vert x_t)$\n",
    "    \"\"\"log probabilities $\\\\log p(y_t | x_t)$\"\"\"\n",
    "    v, B, Omega = obs_model\n",
    "    y_pred = v + (B @ x[:, :, None])[:, :, 0]\n",
    "    return MVN(y_pred, Omega).log_prob(y)\n",
    "\n",
    "\n",
    "def log_prob(x: States, y: Observations, glssm: GLSSM) -> Float:  # $\\log p(x,y)$\n",
    "    \"\"\"joint log probability of states and observations\"\"\"\n",
    "    log_p_x = jnp.sum(log_probs_x(x, to_states(glssm)))\n",
    "    log_p_y_given_x = jnp.sum(log_probs_y(y, x, to_observation_model(glssm)))\n",
    "    return log_p_x + log_p_y_given_x"
   ]
  },
  {
   "cell_type": "code",
   "execution_count": null,
   "metadata": {},
   "outputs": [],
   "source": [
    "fct.test_eq(log_probs_x(X, to_states(model)).shape, (np1,))\n",
    "fct.test_eq(log_probs_y(Y, X, to_observation_model(model)).shape, (np1,))\n",
    "fct.test_eq(log_prob(X, Y, model).shape, ())"
   ]
  },
  {
   "cell_type": "code",
   "execution_count": null,
   "metadata": {},
   "outputs": [],
   "source": [
    "# | hide\n",
    "import nbdev\n",
    "\n",
    "nbdev.nbdev_export()"
   ]
  }
 ],
 "metadata": {
  "kernelspec": {
   "display_name": "python3",
   "language": "python",
   "name": "python3"
  }
 },
 "nbformat": 4,
 "nbformat_minor": 4
}
